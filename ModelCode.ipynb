{
  "nbformat": 4,
  "nbformat_minor": 0,
  "metadata": {
    "colab": {
      "provenance": [],
      "gpuType": "T4",
      "authorship_tag": "ABX9TyNPmpRSDvJ/5Iy9GcqedKnn",
      "include_colab_link": true
    },
    "kernelspec": {
      "name": "python3",
      "display_name": "Python 3"
    },
    "language_info": {
      "name": "python"
    },
    "accelerator": "GPU"
  },
  "cells": [
    {
      "cell_type": "markdown",
      "metadata": {
        "id": "view-in-github",
        "colab_type": "text"
      },
      "source": [
        "<a href=\"https://colab.research.google.com/github/hindhdO/MovieRecommendation/blob/main/ModelCode.ipynb\" target=\"_parent\"><img src=\"https://colab.research.google.com/assets/colab-badge.svg\" alt=\"Open In Colab\"/></a>"
      ]
    },
    {
      "cell_type": "code",
      "execution_count": 6,
      "metadata": {
        "id": "eeuygab3sHGF"
      },
      "outputs": [],
      "source": [
        "import numpy as np\n",
        "import pandas as pd\n",
        "import difflib\n",
        "from sklearn.feature_extraction.text import TfidfVectorizer #wee need to convert data into numerical vectors\n",
        "from sklearn.metrics.pairwise import cosine_similarity #to find the similarity score between the movies\n",
        "\n"
      ]
    },
    {
      "cell_type": "markdown",
      "source": [
        "## **DATA**"
      ],
      "metadata": {
        "id": "IfPma8-7ymUc"
      }
    },
    {
      "cell_type": "code",
      "source": [
        "movies=pd.read_csv('/content/movies.csv')"
      ],
      "metadata": {
        "id": "RgiyW6Y2yplA"
      },
      "execution_count": 7,
      "outputs": []
    },
    {
      "cell_type": "markdown",
      "source": [
        "Some data **infos**"
      ],
      "metadata": {
        "id": "DVirNHSGOh8v"
      }
    },
    {
      "cell_type": "code",
      "source": [
        "movies.head()"
      ],
      "metadata": {
        "colab": {
          "base_uri": "https://localhost:8080/",
          "height": 794
        },
        "id": "Q7wB4k7ey5E8",
        "outputId": "3ab3985a-fb0c-4675-ddd9-c7b981b9fa60"
      },
      "execution_count": null,
      "outputs": [
        {
          "output_type": "execute_result",
          "data": {
            "text/plain": [
              "   index     budget                                    genres  \\\n",
              "0      0  237000000  Action Adventure Fantasy Science Fiction   \n",
              "1      1  300000000                  Adventure Fantasy Action   \n",
              "2      2  245000000                    Action Adventure Crime   \n",
              "3      3  250000000               Action Crime Drama Thriller   \n",
              "4      4  260000000          Action Adventure Science Fiction   \n",
              "\n",
              "                                       homepage      id  \\\n",
              "0                   http://www.avatarmovie.com/   19995   \n",
              "1  http://disney.go.com/disneypictures/pirates/     285   \n",
              "2   http://www.sonypictures.com/movies/spectre/  206647   \n",
              "3            http://www.thedarkknightrises.com/   49026   \n",
              "4          http://movies.disney.com/john-carter   49529   \n",
              "\n",
              "                                            keywords original_language  \\\n",
              "0  culture clash future space war space colony so...                en   \n",
              "1  ocean drug abuse exotic island east india trad...                en   \n",
              "2         spy based on novel secret agent sequel mi6                en   \n",
              "3  dc comics crime fighter terrorist secret ident...                en   \n",
              "4  based on novel mars medallion space travel pri...                en   \n",
              "\n",
              "                             original_title  \\\n",
              "0                                    Avatar   \n",
              "1  Pirates of the Caribbean: At World's End   \n",
              "2                                   Spectre   \n",
              "3                     The Dark Knight Rises   \n",
              "4                               John Carter   \n",
              "\n",
              "                                            overview  popularity  ... runtime  \\\n",
              "0  In the 22nd century, a paraplegic Marine is di...  150.437577  ...   162.0   \n",
              "1  Captain Barbossa, long believed to be dead, ha...  139.082615  ...   169.0   \n",
              "2  A cryptic message from Bond’s past sends him o...  107.376788  ...   148.0   \n",
              "3  Following the death of District Attorney Harve...  112.312950  ...   165.0   \n",
              "4  John Carter is a war-weary, former military ca...   43.926995  ...   132.0   \n",
              "\n",
              "                                    spoken_languages    status  \\\n",
              "0  [{\"iso_639_1\": \"en\", \"name\": \"English\"}, {\"iso...  Released   \n",
              "1           [{\"iso_639_1\": \"en\", \"name\": \"English\"}]  Released   \n",
              "2  [{\"iso_639_1\": \"fr\", \"name\": \"Fran\\u00e7ais\"},...  Released   \n",
              "3           [{\"iso_639_1\": \"en\", \"name\": \"English\"}]  Released   \n",
              "4           [{\"iso_639_1\": \"en\", \"name\": \"English\"}]  Released   \n",
              "\n",
              "                                          tagline  \\\n",
              "0                     Enter the World of Pandora.   \n",
              "1  At the end of the world, the adventure begins.   \n",
              "2                           A Plan No One Escapes   \n",
              "3                                 The Legend Ends   \n",
              "4            Lost in our world, found in another.   \n",
              "\n",
              "                                      title vote_average vote_count  \\\n",
              "0                                    Avatar          7.2      11800   \n",
              "1  Pirates of the Caribbean: At World's End          6.9       4500   \n",
              "2                                   Spectre          6.3       4466   \n",
              "3                     The Dark Knight Rises          7.6       9106   \n",
              "4                               John Carter          6.1       2124   \n",
              "\n",
              "                                                cast  \\\n",
              "0  Sam Worthington Zoe Saldana Sigourney Weaver S...   \n",
              "1  Johnny Depp Orlando Bloom Keira Knightley Stel...   \n",
              "2  Daniel Craig Christoph Waltz L\\u00e9a Seydoux ...   \n",
              "3  Christian Bale Michael Caine Gary Oldman Anne ...   \n",
              "4  Taylor Kitsch Lynn Collins Samantha Morton Wil...   \n",
              "\n",
              "                                                crew           director  \n",
              "0  [{'name': 'Stephen E. Rivkin', 'gender': 0, 'd...      James Cameron  \n",
              "1  [{'name': 'Dariusz Wolski', 'gender': 2, 'depa...     Gore Verbinski  \n",
              "2  [{'name': 'Thomas Newman', 'gender': 2, 'depar...         Sam Mendes  \n",
              "3  [{'name': 'Hans Zimmer', 'gender': 2, 'departm...  Christopher Nolan  \n",
              "4  [{'name': 'Andrew Stanton', 'gender': 2, 'depa...     Andrew Stanton  \n",
              "\n",
              "[5 rows x 24 columns]"
            ],
            "text/html": [
              "\n",
              "  <div id=\"df-74ba4652-05f2-4744-86f0-024ca22221d7\" class=\"colab-df-container\">\n",
              "    <div>\n",
              "<style scoped>\n",
              "    .dataframe tbody tr th:only-of-type {\n",
              "        vertical-align: middle;\n",
              "    }\n",
              "\n",
              "    .dataframe tbody tr th {\n",
              "        vertical-align: top;\n",
              "    }\n",
              "\n",
              "    .dataframe thead th {\n",
              "        text-align: right;\n",
              "    }\n",
              "</style>\n",
              "<table border=\"1\" class=\"dataframe\">\n",
              "  <thead>\n",
              "    <tr style=\"text-align: right;\">\n",
              "      <th></th>\n",
              "      <th>index</th>\n",
              "      <th>budget</th>\n",
              "      <th>genres</th>\n",
              "      <th>homepage</th>\n",
              "      <th>id</th>\n",
              "      <th>keywords</th>\n",
              "      <th>original_language</th>\n",
              "      <th>original_title</th>\n",
              "      <th>overview</th>\n",
              "      <th>popularity</th>\n",
              "      <th>...</th>\n",
              "      <th>runtime</th>\n",
              "      <th>spoken_languages</th>\n",
              "      <th>status</th>\n",
              "      <th>tagline</th>\n",
              "      <th>title</th>\n",
              "      <th>vote_average</th>\n",
              "      <th>vote_count</th>\n",
              "      <th>cast</th>\n",
              "      <th>crew</th>\n",
              "      <th>director</th>\n",
              "    </tr>\n",
              "  </thead>\n",
              "  <tbody>\n",
              "    <tr>\n",
              "      <th>0</th>\n",
              "      <td>0</td>\n",
              "      <td>237000000</td>\n",
              "      <td>Action Adventure Fantasy Science Fiction</td>\n",
              "      <td>http://www.avatarmovie.com/</td>\n",
              "      <td>19995</td>\n",
              "      <td>culture clash future space war space colony so...</td>\n",
              "      <td>en</td>\n",
              "      <td>Avatar</td>\n",
              "      <td>In the 22nd century, a paraplegic Marine is di...</td>\n",
              "      <td>150.437577</td>\n",
              "      <td>...</td>\n",
              "      <td>162.0</td>\n",
              "      <td>[{\"iso_639_1\": \"en\", \"name\": \"English\"}, {\"iso...</td>\n",
              "      <td>Released</td>\n",
              "      <td>Enter the World of Pandora.</td>\n",
              "      <td>Avatar</td>\n",
              "      <td>7.2</td>\n",
              "      <td>11800</td>\n",
              "      <td>Sam Worthington Zoe Saldana Sigourney Weaver S...</td>\n",
              "      <td>[{'name': 'Stephen E. Rivkin', 'gender': 0, 'd...</td>\n",
              "      <td>James Cameron</td>\n",
              "    </tr>\n",
              "    <tr>\n",
              "      <th>1</th>\n",
              "      <td>1</td>\n",
              "      <td>300000000</td>\n",
              "      <td>Adventure Fantasy Action</td>\n",
              "      <td>http://disney.go.com/disneypictures/pirates/</td>\n",
              "      <td>285</td>\n",
              "      <td>ocean drug abuse exotic island east india trad...</td>\n",
              "      <td>en</td>\n",
              "      <td>Pirates of the Caribbean: At World's End</td>\n",
              "      <td>Captain Barbossa, long believed to be dead, ha...</td>\n",
              "      <td>139.082615</td>\n",
              "      <td>...</td>\n",
              "      <td>169.0</td>\n",
              "      <td>[{\"iso_639_1\": \"en\", \"name\": \"English\"}]</td>\n",
              "      <td>Released</td>\n",
              "      <td>At the end of the world, the adventure begins.</td>\n",
              "      <td>Pirates of the Caribbean: At World's End</td>\n",
              "      <td>6.9</td>\n",
              "      <td>4500</td>\n",
              "      <td>Johnny Depp Orlando Bloom Keira Knightley Stel...</td>\n",
              "      <td>[{'name': 'Dariusz Wolski', 'gender': 2, 'depa...</td>\n",
              "      <td>Gore Verbinski</td>\n",
              "    </tr>\n",
              "    <tr>\n",
              "      <th>2</th>\n",
              "      <td>2</td>\n",
              "      <td>245000000</td>\n",
              "      <td>Action Adventure Crime</td>\n",
              "      <td>http://www.sonypictures.com/movies/spectre/</td>\n",
              "      <td>206647</td>\n",
              "      <td>spy based on novel secret agent sequel mi6</td>\n",
              "      <td>en</td>\n",
              "      <td>Spectre</td>\n",
              "      <td>A cryptic message from Bond’s past sends him o...</td>\n",
              "      <td>107.376788</td>\n",
              "      <td>...</td>\n",
              "      <td>148.0</td>\n",
              "      <td>[{\"iso_639_1\": \"fr\", \"name\": \"Fran\\u00e7ais\"},...</td>\n",
              "      <td>Released</td>\n",
              "      <td>A Plan No One Escapes</td>\n",
              "      <td>Spectre</td>\n",
              "      <td>6.3</td>\n",
              "      <td>4466</td>\n",
              "      <td>Daniel Craig Christoph Waltz L\\u00e9a Seydoux ...</td>\n",
              "      <td>[{'name': 'Thomas Newman', 'gender': 2, 'depar...</td>\n",
              "      <td>Sam Mendes</td>\n",
              "    </tr>\n",
              "    <tr>\n",
              "      <th>3</th>\n",
              "      <td>3</td>\n",
              "      <td>250000000</td>\n",
              "      <td>Action Crime Drama Thriller</td>\n",
              "      <td>http://www.thedarkknightrises.com/</td>\n",
              "      <td>49026</td>\n",
              "      <td>dc comics crime fighter terrorist secret ident...</td>\n",
              "      <td>en</td>\n",
              "      <td>The Dark Knight Rises</td>\n",
              "      <td>Following the death of District Attorney Harve...</td>\n",
              "      <td>112.312950</td>\n",
              "      <td>...</td>\n",
              "      <td>165.0</td>\n",
              "      <td>[{\"iso_639_1\": \"en\", \"name\": \"English\"}]</td>\n",
              "      <td>Released</td>\n",
              "      <td>The Legend Ends</td>\n",
              "      <td>The Dark Knight Rises</td>\n",
              "      <td>7.6</td>\n",
              "      <td>9106</td>\n",
              "      <td>Christian Bale Michael Caine Gary Oldman Anne ...</td>\n",
              "      <td>[{'name': 'Hans Zimmer', 'gender': 2, 'departm...</td>\n",
              "      <td>Christopher Nolan</td>\n",
              "    </tr>\n",
              "    <tr>\n",
              "      <th>4</th>\n",
              "      <td>4</td>\n",
              "      <td>260000000</td>\n",
              "      <td>Action Adventure Science Fiction</td>\n",
              "      <td>http://movies.disney.com/john-carter</td>\n",
              "      <td>49529</td>\n",
              "      <td>based on novel mars medallion space travel pri...</td>\n",
              "      <td>en</td>\n",
              "      <td>John Carter</td>\n",
              "      <td>John Carter is a war-weary, former military ca...</td>\n",
              "      <td>43.926995</td>\n",
              "      <td>...</td>\n",
              "      <td>132.0</td>\n",
              "      <td>[{\"iso_639_1\": \"en\", \"name\": \"English\"}]</td>\n",
              "      <td>Released</td>\n",
              "      <td>Lost in our world, found in another.</td>\n",
              "      <td>John Carter</td>\n",
              "      <td>6.1</td>\n",
              "      <td>2124</td>\n",
              "      <td>Taylor Kitsch Lynn Collins Samantha Morton Wil...</td>\n",
              "      <td>[{'name': 'Andrew Stanton', 'gender': 2, 'depa...</td>\n",
              "      <td>Andrew Stanton</td>\n",
              "    </tr>\n",
              "  </tbody>\n",
              "</table>\n",
              "<p>5 rows × 24 columns</p>\n",
              "</div>\n",
              "    <div class=\"colab-df-buttons\">\n",
              "\n",
              "  <div class=\"colab-df-container\">\n",
              "    <button class=\"colab-df-convert\" onclick=\"convertToInteractive('df-74ba4652-05f2-4744-86f0-024ca22221d7')\"\n",
              "            title=\"Convert this dataframe to an interactive table.\"\n",
              "            style=\"display:none;\">\n",
              "\n",
              "  <svg xmlns=\"http://www.w3.org/2000/svg\" height=\"24px\" viewBox=\"0 -960 960 960\">\n",
              "    <path d=\"M120-120v-720h720v720H120Zm60-500h600v-160H180v160Zm220 220h160v-160H400v160Zm0 220h160v-160H400v160ZM180-400h160v-160H180v160Zm440 0h160v-160H620v160ZM180-180h160v-160H180v160Zm440 0h160v-160H620v160Z\"/>\n",
              "  </svg>\n",
              "    </button>\n",
              "\n",
              "  <style>\n",
              "    .colab-df-container {\n",
              "      display:flex;\n",
              "      gap: 12px;\n",
              "    }\n",
              "\n",
              "    .colab-df-convert {\n",
              "      background-color: #E8F0FE;\n",
              "      border: none;\n",
              "      border-radius: 50%;\n",
              "      cursor: pointer;\n",
              "      display: none;\n",
              "      fill: #1967D2;\n",
              "      height: 32px;\n",
              "      padding: 0 0 0 0;\n",
              "      width: 32px;\n",
              "    }\n",
              "\n",
              "    .colab-df-convert:hover {\n",
              "      background-color: #E2EBFA;\n",
              "      box-shadow: 0px 1px 2px rgba(60, 64, 67, 0.3), 0px 1px 3px 1px rgba(60, 64, 67, 0.15);\n",
              "      fill: #174EA6;\n",
              "    }\n",
              "\n",
              "    .colab-df-buttons div {\n",
              "      margin-bottom: 4px;\n",
              "    }\n",
              "\n",
              "    [theme=dark] .colab-df-convert {\n",
              "      background-color: #3B4455;\n",
              "      fill: #D2E3FC;\n",
              "    }\n",
              "\n",
              "    [theme=dark] .colab-df-convert:hover {\n",
              "      background-color: #434B5C;\n",
              "      box-shadow: 0px 1px 3px 1px rgba(0, 0, 0, 0.15);\n",
              "      filter: drop-shadow(0px 1px 2px rgba(0, 0, 0, 0.3));\n",
              "      fill: #FFFFFF;\n",
              "    }\n",
              "  </style>\n",
              "\n",
              "    <script>\n",
              "      const buttonEl =\n",
              "        document.querySelector('#df-74ba4652-05f2-4744-86f0-024ca22221d7 button.colab-df-convert');\n",
              "      buttonEl.style.display =\n",
              "        google.colab.kernel.accessAllowed ? 'block' : 'none';\n",
              "\n",
              "      async function convertToInteractive(key) {\n",
              "        const element = document.querySelector('#df-74ba4652-05f2-4744-86f0-024ca22221d7');\n",
              "        const dataTable =\n",
              "          await google.colab.kernel.invokeFunction('convertToInteractive',\n",
              "                                                    [key], {});\n",
              "        if (!dataTable) return;\n",
              "\n",
              "        const docLinkHtml = 'Like what you see? Visit the ' +\n",
              "          '<a target=\"_blank\" href=https://colab.research.google.com/notebooks/data_table.ipynb>data table notebook</a>'\n",
              "          + ' to learn more about interactive tables.';\n",
              "        element.innerHTML = '';\n",
              "        dataTable['output_type'] = 'display_data';\n",
              "        await google.colab.output.renderOutput(dataTable, element);\n",
              "        const docLink = document.createElement('div');\n",
              "        docLink.innerHTML = docLinkHtml;\n",
              "        element.appendChild(docLink);\n",
              "      }\n",
              "    </script>\n",
              "  </div>\n",
              "\n",
              "\n",
              "<div id=\"df-5379f6bb-ddce-46a7-9254-299d28dcd2ee\">\n",
              "  <button class=\"colab-df-quickchart\" onclick=\"quickchart('df-5379f6bb-ddce-46a7-9254-299d28dcd2ee')\"\n",
              "            title=\"Suggest charts\"\n",
              "            style=\"display:none;\">\n",
              "\n",
              "<svg xmlns=\"http://www.w3.org/2000/svg\" height=\"24px\"viewBox=\"0 0 24 24\"\n",
              "     width=\"24px\">\n",
              "    <g>\n",
              "        <path d=\"M19 3H5c-1.1 0-2 .9-2 2v14c0 1.1.9 2 2 2h14c1.1 0 2-.9 2-2V5c0-1.1-.9-2-2-2zM9 17H7v-7h2v7zm4 0h-2V7h2v10zm4 0h-2v-4h2v4z\"/>\n",
              "    </g>\n",
              "</svg>\n",
              "  </button>\n",
              "\n",
              "<style>\n",
              "  .colab-df-quickchart {\n",
              "      --bg-color: #E8F0FE;\n",
              "      --fill-color: #1967D2;\n",
              "      --hover-bg-color: #E2EBFA;\n",
              "      --hover-fill-color: #174EA6;\n",
              "      --disabled-fill-color: #AAA;\n",
              "      --disabled-bg-color: #DDD;\n",
              "  }\n",
              "\n",
              "  [theme=dark] .colab-df-quickchart {\n",
              "      --bg-color: #3B4455;\n",
              "      --fill-color: #D2E3FC;\n",
              "      --hover-bg-color: #434B5C;\n",
              "      --hover-fill-color: #FFFFFF;\n",
              "      --disabled-bg-color: #3B4455;\n",
              "      --disabled-fill-color: #666;\n",
              "  }\n",
              "\n",
              "  .colab-df-quickchart {\n",
              "    background-color: var(--bg-color);\n",
              "    border: none;\n",
              "    border-radius: 50%;\n",
              "    cursor: pointer;\n",
              "    display: none;\n",
              "    fill: var(--fill-color);\n",
              "    height: 32px;\n",
              "    padding: 0;\n",
              "    width: 32px;\n",
              "  }\n",
              "\n",
              "  .colab-df-quickchart:hover {\n",
              "    background-color: var(--hover-bg-color);\n",
              "    box-shadow: 0 1px 2px rgba(60, 64, 67, 0.3), 0 1px 3px 1px rgba(60, 64, 67, 0.15);\n",
              "    fill: var(--button-hover-fill-color);\n",
              "  }\n",
              "\n",
              "  .colab-df-quickchart-complete:disabled,\n",
              "  .colab-df-quickchart-complete:disabled:hover {\n",
              "    background-color: var(--disabled-bg-color);\n",
              "    fill: var(--disabled-fill-color);\n",
              "    box-shadow: none;\n",
              "  }\n",
              "\n",
              "  .colab-df-spinner {\n",
              "    border: 2px solid var(--fill-color);\n",
              "    border-color: transparent;\n",
              "    border-bottom-color: var(--fill-color);\n",
              "    animation:\n",
              "      spin 1s steps(1) infinite;\n",
              "  }\n",
              "\n",
              "  @keyframes spin {\n",
              "    0% {\n",
              "      border-color: transparent;\n",
              "      border-bottom-color: var(--fill-color);\n",
              "      border-left-color: var(--fill-color);\n",
              "    }\n",
              "    20% {\n",
              "      border-color: transparent;\n",
              "      border-left-color: var(--fill-color);\n",
              "      border-top-color: var(--fill-color);\n",
              "    }\n",
              "    30% {\n",
              "      border-color: transparent;\n",
              "      border-left-color: var(--fill-color);\n",
              "      border-top-color: var(--fill-color);\n",
              "      border-right-color: var(--fill-color);\n",
              "    }\n",
              "    40% {\n",
              "      border-color: transparent;\n",
              "      border-right-color: var(--fill-color);\n",
              "      border-top-color: var(--fill-color);\n",
              "    }\n",
              "    60% {\n",
              "      border-color: transparent;\n",
              "      border-right-color: var(--fill-color);\n",
              "    }\n",
              "    80% {\n",
              "      border-color: transparent;\n",
              "      border-right-color: var(--fill-color);\n",
              "      border-bottom-color: var(--fill-color);\n",
              "    }\n",
              "    90% {\n",
              "      border-color: transparent;\n",
              "      border-bottom-color: var(--fill-color);\n",
              "    }\n",
              "  }\n",
              "</style>\n",
              "\n",
              "  <script>\n",
              "    async function quickchart(key) {\n",
              "      const quickchartButtonEl =\n",
              "        document.querySelector('#' + key + ' button');\n",
              "      quickchartButtonEl.disabled = true;  // To prevent multiple clicks.\n",
              "      quickchartButtonEl.classList.add('colab-df-spinner');\n",
              "      try {\n",
              "        const charts = await google.colab.kernel.invokeFunction(\n",
              "            'suggestCharts', [key], {});\n",
              "      } catch (error) {\n",
              "        console.error('Error during call to suggestCharts:', error);\n",
              "      }\n",
              "      quickchartButtonEl.classList.remove('colab-df-spinner');\n",
              "      quickchartButtonEl.classList.add('colab-df-quickchart-complete');\n",
              "    }\n",
              "    (() => {\n",
              "      let quickchartButtonEl =\n",
              "        document.querySelector('#df-5379f6bb-ddce-46a7-9254-299d28dcd2ee button');\n",
              "      quickchartButtonEl.style.display =\n",
              "        google.colab.kernel.accessAllowed ? 'block' : 'none';\n",
              "    })();\n",
              "  </script>\n",
              "</div>\n",
              "\n",
              "    </div>\n",
              "  </div>\n"
            ],
            "application/vnd.google.colaboratory.intrinsic+json": {
              "type": "dataframe",
              "variable_name": "movies"
            }
          },
          "metadata": {},
          "execution_count": 6
        }
      ]
    },
    {
      "cell_type": "code",
      "source": [
        "movies.shape"
      ],
      "metadata": {
        "colab": {
          "base_uri": "https://localhost:8080/"
        },
        "id": "xdzNJD3vOIUL",
        "outputId": "cab35b11-64d7-430c-c8fe-102ade652940"
      },
      "execution_count": 8,
      "outputs": [
        {
          "output_type": "execute_result",
          "data": {
            "text/plain": [
              "(4803, 24)"
            ]
          },
          "metadata": {},
          "execution_count": 8
        }
      ]
    },
    {
      "cell_type": "code",
      "source": [
        "#feature Selection\n",
        "selected_features=['genres','keywords','tagline','cast','director']"
      ],
      "metadata": {
        "id": "yUGWoicyPG_C"
      },
      "execution_count": 9,
      "outputs": []
    },
    {
      "cell_type": "markdown",
      "source": [
        "Filling the null values with a null string"
      ],
      "metadata": {
        "id": "tOULYYoWP4Qd"
      }
    },
    {
      "cell_type": "code",
      "source": [
        "for feature in selected_features:\n",
        "  movies[feature]=movies[feature].fillna('')"
      ],
      "metadata": {
        "id": "Qb-YMgD4P7ib"
      },
      "execution_count": 10,
      "outputs": []
    },
    {
      "cell_type": "code",
      "source": [
        "#constructing the table for chosen features\n",
        "combined_features=movies['genres']+' '+movies['keywords']+' '+movies['tagline']+' '+movies['cast']+' '+movies['director']\n",
        "combined_features.head()"
      ],
      "metadata": {
        "colab": {
          "base_uri": "https://localhost:8080/",
          "height": 241
        },
        "id": "Or0F_KCpQhwc",
        "outputId": "087117a3-cc2e-4c5f-95f1-6eb3f1f07ee4"
      },
      "execution_count": 11,
      "outputs": [
        {
          "output_type": "execute_result",
          "data": {
            "text/plain": [
              "0    Action Adventure Fantasy Science Fiction cultu...\n",
              "1    Adventure Fantasy Action ocean drug abuse exot...\n",
              "2    Action Adventure Crime spy based on novel secr...\n",
              "3    Action Crime Drama Thriller dc comics crime fi...\n",
              "4    Action Adventure Science Fiction based on nove...\n",
              "dtype: object"
            ],
            "text/html": [
              "<div>\n",
              "<style scoped>\n",
              "    .dataframe tbody tr th:only-of-type {\n",
              "        vertical-align: middle;\n",
              "    }\n",
              "\n",
              "    .dataframe tbody tr th {\n",
              "        vertical-align: top;\n",
              "    }\n",
              "\n",
              "    .dataframe thead th {\n",
              "        text-align: right;\n",
              "    }\n",
              "</style>\n",
              "<table border=\"1\" class=\"dataframe\">\n",
              "  <thead>\n",
              "    <tr style=\"text-align: right;\">\n",
              "      <th></th>\n",
              "      <th>0</th>\n",
              "    </tr>\n",
              "  </thead>\n",
              "  <tbody>\n",
              "    <tr>\n",
              "      <th>0</th>\n",
              "      <td>Action Adventure Fantasy Science Fiction cultu...</td>\n",
              "    </tr>\n",
              "    <tr>\n",
              "      <th>1</th>\n",
              "      <td>Adventure Fantasy Action ocean drug abuse exot...</td>\n",
              "    </tr>\n",
              "    <tr>\n",
              "      <th>2</th>\n",
              "      <td>Action Adventure Crime spy based on novel secr...</td>\n",
              "    </tr>\n",
              "    <tr>\n",
              "      <th>3</th>\n",
              "      <td>Action Crime Drama Thriller dc comics crime fi...</td>\n",
              "    </tr>\n",
              "    <tr>\n",
              "      <th>4</th>\n",
              "      <td>Action Adventure Science Fiction based on nove...</td>\n",
              "    </tr>\n",
              "  </tbody>\n",
              "</table>\n",
              "</div><br><label><b>dtype:</b> object</label>"
            ]
          },
          "metadata": {},
          "execution_count": 11
        }
      ]
    },
    {
      "cell_type": "code",
      "source": [
        "#Converting to feature vectors\n",
        "vectorizer=TfidfVectorizer()\n",
        "feature_vectors=vectorizer.fit_transform(combined_features)\n",
        "print(feature_vectors)\n"
      ],
      "metadata": {
        "colab": {
          "base_uri": "https://localhost:8080/"
        },
        "id": "KvlwAghZRI-m",
        "outputId": "ebe79bc4-3373-4dd1-eab3-f53fc1671fb2"
      },
      "execution_count": 12,
      "outputs": [
        {
          "output_type": "stream",
          "name": "stdout",
          "text": [
            "  (0, 201)\t0.07860022416510505\n",
            "  (0, 274)\t0.09021200873707368\n",
            "  (0, 5274)\t0.11108562744414445\n",
            "  (0, 13599)\t0.1036413987316636\n",
            "  (0, 5437)\t0.1036413987316636\n",
            "  (0, 3678)\t0.21392179219912877\n",
            "  (0, 3065)\t0.22208377802661425\n",
            "  (0, 5836)\t0.1646750903586285\n",
            "  (0, 14378)\t0.33962752210959823\n",
            "  (0, 16587)\t0.12549432354918996\n",
            "  (0, 3225)\t0.24960162956997736\n",
            "  (0, 14271)\t0.21392179219912877\n",
            "  (0, 4945)\t0.24025852494110758\n",
            "  (0, 15261)\t0.07095833561276566\n",
            "  (0, 16998)\t0.1282126322850579\n",
            "  (0, 11192)\t0.09049319826481456\n",
            "  (0, 11503)\t0.27211310056983656\n",
            "  (0, 13349)\t0.15021264094167086\n",
            "  (0, 17007)\t0.23643326319898797\n",
            "  (0, 17290)\t0.20197912553916567\n",
            "  (0, 13319)\t0.2177470539412484\n",
            "  (0, 14064)\t0.20596090415084142\n",
            "  (0, 16668)\t0.19843263965100372\n",
            "  (0, 14608)\t0.15150672398763912\n",
            "  (0, 8756)\t0.22709015857011816\n",
            "  :\t:\n",
            "  (4801, 403)\t0.17727585190343229\n",
            "  (4801, 4835)\t0.24713765026964\n",
            "  (4801, 17266)\t0.28860981849329476\n",
            "  (4801, 13835)\t0.27870029291200094\n",
            "  (4801, 13175)\t0.28860981849329476\n",
            "  (4801, 17150)\t0.3025765103586468\n",
            "  (4801, 3511)\t0.3025765103586468\n",
            "  (4801, 13948)\t0.3025765103586468\n",
            "  (4801, 7269)\t0.3025765103586468\n",
            "  (4802, 11161)\t0.17867407682173203\n",
            "  (4802, 4518)\t0.16784466610624255\n",
            "  (4802, 2129)\t0.3099656128577656\n",
            "  (4802, 4980)\t0.16078053641367315\n",
            "  (4802, 6155)\t0.18056463596934083\n",
            "  (4802, 3436)\t0.21753405888348784\n",
            "  (4802, 4528)\t0.19504460807622875\n",
            "  (4802, 1316)\t0.1960747079005741\n",
            "  (4802, 12989)\t0.1696476532191718\n",
            "  (4802, 4371)\t0.1538239182675544\n",
            "  (4802, 6417)\t0.21753405888348784\n",
            "  (4802, 4608)\t0.24002350969074696\n",
            "  (4802, 2425)\t0.24002350969074696\n",
            "  (4802, 3654)\t0.262512960498006\n",
            "  (4802, 5367)\t0.22969114490410403\n",
            "  (4802, 6996)\t0.5700048226105303\n"
          ]
        }
      ]
    },
    {
      "cell_type": "markdown",
      "source": [
        "Finding data simalirities using Cosine Similarity\n"
      ],
      "metadata": {
        "id": "zOJASt5oR-OV"
      }
    },
    {
      "cell_type": "code",
      "source": [
        "similarity=cosine_similarity(feature_vectors)\n",
        "print(similarity)"
      ],
      "metadata": {
        "colab": {
          "base_uri": "https://localhost:8080/"
        },
        "id": "uy4n-2m9R8Dv",
        "outputId": "266c2102-5e70-418f-ee64-100b55985dc5"
      },
      "execution_count": 13,
      "outputs": [
        {
          "output_type": "stream",
          "name": "stdout",
          "text": [
            "[[1.         0.07219487 0.037733   ... 0.         0.         0.        ]\n",
            " [0.07219487 1.         0.03281499 ... 0.03575545 0.         0.        ]\n",
            " [0.037733   0.03281499 1.         ... 0.         0.05389661 0.        ]\n",
            " ...\n",
            " [0.         0.03575545 0.         ... 1.         0.         0.02651502]\n",
            " [0.         0.         0.05389661 ... 0.         1.         0.        ]\n",
            " [0.         0.         0.         ... 0.02651502 0.         1.        ]]\n"
          ]
        }
      ]
    },
    {
      "cell_type": "code",
      "source": [
        "#user input\n",
        "movie_name=input(\"Enter the movie name: \")\n"
      ],
      "metadata": {
        "colab": {
          "base_uri": "https://localhost:8080/"
        },
        "id": "Ts1zy9iYSwD_",
        "outputId": "5c5fef5a-c7ad-4ae4-e1c7-c9ffdc8856f2"
      },
      "execution_count": 15,
      "outputs": [
        {
          "name": "stdout",
          "output_type": "stream",
          "text": [
            "Enter the movie name: Spider Man\n"
          ]
        }
      ]
    },
    {
      "cell_type": "code",
      "source": [
        "#comparing the user input with the names we have in the database\n",
        "list_titles=movies['title'].tolist()\n",
        "find_close_match=difflib.get_close_matches(movie_name,list_titles)\n",
        "print(find_close_match)"
      ],
      "metadata": {
        "colab": {
          "base_uri": "https://localhost:8080/"
        },
        "id": "oiL9HNOFTTQw",
        "outputId": "94724ece-3e7c-46a3-813e-574dc942928d"
      },
      "execution_count": 16,
      "outputs": [
        {
          "output_type": "stream",
          "name": "stdout",
          "text": [
            "['Spider-Man', 'Spider-Man 3', 'Spider-Man 2']\n"
          ]
        }
      ]
    },
    {
      "cell_type": "code",
      "source": [
        "close_match=find_close_match[0]\n",
        "print(close_match)"
      ],
      "metadata": {
        "colab": {
          "base_uri": "https://localhost:8080/"
        },
        "id": "2RWxm5sQVBOQ",
        "outputId": "0f0f44ce-2283-40e4-8b9a-0969449659af"
      },
      "execution_count": 17,
      "outputs": [
        {
          "output_type": "stream",
          "name": "stdout",
          "text": [
            "Spider-Man\n"
          ]
        }
      ]
    },
    {
      "cell_type": "code",
      "source": [
        "#finding the index of the searched movie using its title\n",
        "movie_index=movies[movies.title==close_match]['index'].values[0]\n",
        "print(movie_index)"
      ],
      "metadata": {
        "colab": {
          "base_uri": "https://localhost:8080/"
        },
        "id": "hfGmotnVXNQ7",
        "outputId": "daab872c-eaac-4c93-c457-db98dc59d28c"
      },
      "execution_count": 18,
      "outputs": [
        {
          "output_type": "stream",
          "name": "stdout",
          "text": [
            "159\n"
          ]
        }
      ]
    },
    {
      "cell_type": "code",
      "source": [
        "#listing similarities with all other movies\n",
        "similarity_score=list(enumerate(similarity[movie_index]))\n",
        "print(similarity_score)"
      ],
      "metadata": {
        "colab": {
          "base_uri": "https://localhost:8080/"
        },
        "id": "4t0kjzixZui7",
        "outputId": "7b4b10f2-8bc0-4c99-aa7d-dfaf4ec7f890"
      },
      "execution_count": 19,
      "outputs": [
        {
          "output_type": "stream",
          "name": "stdout",
          "text": [
            "[(0, 0.058033472668241895), (1, 0.028510860472594178), (2, 0.027527242422615502), (3, 0.006457320533567937), (4, 0.07910312941508457), (5, 0.3188331558421017), (6, 0.0), (7, 0.005837358717098843), (8, 0.019848569330341657), (9, 0.017094559158687336), (10, 0.032895000920978516), (11, 0.005137462350368439), (12, 0.017699463936031612), (13, 0.01631207363457817), (14, 0.01722159880482989), (15, 0.011028690492438572), (16, 0.0055350569108376544), (17, 0.016931592006051974), (18, 0.005525360643470354), (19, 0.021680168394872627), (20, 0.04593061379094501), (21, 0.0048534966726055005), (22, 0.01735613282383714), (23, 0.028252755876041345), (24, 0.012687691446279886), (25, 0.011992878106901545), (26, 0.006024661849598386), (27, 0.0052681790126982665), (28, 0.0057838388597175935), (29, 0.028149881853568752), (30, 0.31791901982229703), (31, 0.03510954856669071), (32, 0.02137419621616876), (33, 0.005801089457404634), (34, 0.0), (35, 0.006089692551768506), (36, 0.00548729895764899), (37, 0.1325433517724574), (38, 0.017691189860100036), (39, 0.005446374845063464), (40, 0.0), (41, 0.005570994803896289), (42, 0.0), (43, 0.027348551601781502), (44, 0.01907308565258214), (45, 0.016051673385109606), (46, 0.028113041813029233), (47, 0.00640294946809838), (48, 0.017761581007851635), (49, 0.08074621044319251), (50, 0.01675835233622915), (51, 0.004747201832766573), (52, 0.005224272182335719), (53, 0.006167207603568928), (54, 0.020272288246807317), (55, 0.006084023079810926), (56, 0.0064865963495375455), (57, 0.0), (58, 0.006547926439512637), (59, 0.012701710598774077), (60, 0.0), (61, 0.017284091124474252), (62, 0.0057260395000336035), (63, 0.010675005667869174), (64, 0.01210931516699857), (65, 0.005896949865276467), (66, 0.0), (67, 0.0), (68, 0.005423162140688089), (69, 0.013096123772620285), (70, 0.00567814904079277), (71, 0.02278718119293441), (72, 0.016819163049743874), (73, 0.019332180372446883), (74, 0.00580903137423359), (75, 0.005473469896876087), (76, 0.005831280930591423), (77, 0.0), (78, 0.01273493960364531), (79, 0.005225272491899445), (80, 0.0353737754153752), (81, 0.038559350341935854), (82, 0.006097764049593063), (83, 0.005955265079432889), (84, 0.01406910702521084), (85, 0.006383466461491786), (86, 0.009860172775177905), (87, 0.04748557281304387), (88, 0.013160740228579148), (89, 0.006573239721853152), (90, 0.011226455824495763), (91, 0.0055933772265389465), (92, 0.01198907754471337), (93, 0.0055615722491430325), (94, 0.017201780208341358), (95, 0.0), (96, 0.07615494638771905), (97, 0.004495259673948455), (98, 0.01630223181624926), (99, 0.005551688925953304), (100, 0.010944189924921903), (101, 0.01905707206523888), (102, 0.014255649302258868), (103, 0.017812445527246226), (104, 0.035319450653948446), (105, 0.023694345692517594), (106, 0.02019265516703186), (107, 0.018362428726588317), (108, 0.00576749314018986), (109, 0.008398625599449119), (110, 0.0), (111, 0.006107646874632592), (112, 0.013297678232783855), (113, 0.0758900095111757), (114, 0.01759956885696439), (115, 0.0913691798046167), (116, 0.012089923688028538), (117, 0.010556745384389632), (118, 0.010766834551882914), (119, 0.006085703775673386), (120, 0.0), (121, 0.016294824466582314), (122, 0.006256757682505013), (123, 0.005366921825958953), (124, 0.006809819034220972), (125, 0.005283583157087617), (126, 0.015991650179624735), (127, 0.006089114250898005), (128, 0.0), (129, 0.017522151204293044), (130, 0.0), (131, 0.04143310842205785), (132, 0.01945278316954601), (133, 0.01893075339310467), (134, 0.005457421931725118), (135, 0.026841087567701358), (136, 0.0), (137, 0.007867152772805443), (138, 0.016530971622959422), (139, 0.005200023017869082), (140, 0.005955727510347576), (141, 0.0), (142, 0.0), (143, 0.011892703547188879), (144, 0.0), (145, 0.0), (146, 0.0), (147, 0.005207530478490625), (148, 0.017414732859013633), (149, 0.005582431880421539), (150, 0.005573758129620482), (151, 0.005624959333449491), (152, 0.005433279773397511), (153, 0.005396350229402099), (154, 0.011499755007363098), (155, 0.0), (156, 0.03006830789825858), (157, 0.00607723922236127), (158, 0.006100958992733587), (159, 1.0), (160, 0.017431093912831652), (161, 0.010622447199509189), (162, 0.03274051090505912), (163, 0.012115219758200079), (164, 0.011772518500216213), (165, 0.029730454419252057), (166, 0.006769153858767189), (167, 0.017906505322304683), (168, 0.016523467682962006), (169, 0.005701640224073567), (170, 0.0047786337725666565), (171, 0.018080870770292537), (172, 0.011093067989454999), (173, 0.0), (174, 0.005193127820528229), (175, 0.011016334366404474), (176, 0.0), (177, 0.03152560024012268), (178, 0.0), (179, 0.0), (180, 0.006198921539303078), (181, 0.0), (182, 0.005557078100582628), (183, 0.029223879631208444), (184, 0.012884285869159202), (185, 0.0), (186, 0.01170025127677788), (187, 0.016421463803175947), (188, 0.005861390712290811), (189, 0.008448534460943173), (190, 0.0), (191, 0.03969184089643059), (192, 0.0), (193, 0.006093408501996519), (194, 0.0), (195, 0.010872208269338962), (196, 0.006057813250929542), (197, 0.01174649645821628), (198, 0.017660175852830383), (199, 0.022244473897982155), (200, 0.0), (201, 0.0), (202, 0.0), (203, 0.00522796171344423), (204, 0.005762642258999578), (205, 0.005984405759494018), (206, 0.03542339866986912), (207, 0.0053517558170209775), (208, 0.01657026877309773), (209, 0.005960118726966715), (210, 0.01654954541762279), (211, 0.011518125085346878), (212, 0.005504891589606003), (213, 0.006313775762409434), (214, 0.0), (215, 0.026244076226963883), (216, 0.005349464690449271), (217, 0.0371489519156467), (218, 0.00679395018396454), (219, 0.006399264435564922), (220, 0.0), (221, 0.0), (222, 0.005985386040653134), (223, 0.03941783446116884), (224, 0.00555040193572121), (225, 0.03850699730687562), (226, 0.013564407876705866), (227, 0.017435888695442443), (228, 0.005437321823573047), (229, 0.005914475830012626), (230, 0.004540880236722179), (231, 0.01114288729923523), (232, 0.026514005285707576), (233, 0.004742706339411368), (234, 0.011835728216188723), (235, 0.010680310902688556), (236, 0.0058271195108692084), (237, 0.0053889332146037985), (238, 0.015919612627501273), (239, 0.018940619262849203), (240, 0.005864745453450728), (241, 0.016783184609248103), (242, 0.006129920800246975), (243, 0.046078581905214626), (244, 0.004869411208278981), (245, 0.011599773684912967), (246, 0.03214532053477086), (247, 0.0), (248, 0.006051911691451663), (249, 0.01192693110444124), (250, 0.0), (251, 0.0), (252, 0.005866131370826005), (253, 0.004843684293465791), (254, 0.010782408348516487), (255, 0.0), (256, 0.019449576216599873), (257, 0.005697512022135101), (258, 0.01130029684647489), (259, 0.07213425645491214), (260, 0.005700847109258719), (261, 0.055542331785308464), (262, 0.01692295997018975), (263, 0.005622211170978511), (264, 0.0), (265, 0.03346317136039693), (266, 0.01788486430785525), (267, 0.01733213907705706), (268, 0.01169180639483946), (269, 0.019994587656961302), (270, 0.0), (271, 0.014714794243501209), (272, 0.0), (273, 0.005435811207252438), (274, 0.0061908796941899675), (275, 0.033483133980017905), (276, 0.011599856212197397), (277, 0.005772902252481597), (278, 0.005085424137853095), (279, 0.018883378123927645), (280, 0.0), (281, 0.0), (282, 0.01580037525365959), (283, 0.006414800839326402), (284, 0.0), (285, 0.005294625069317508), (286, 0.029709966590758294), (287, 0.007623784685989495), (288, 0.0), (289, 0.011028320538390361), (290, 0.005955037158821001), (291, 0.0052162913897606765), (292, 0.023621371103032574), (293, 0.04887243404148505), (294, 0.024643390566884815), (295, 0.005485619868676778), (296, 0.018118213084111236), (297, 0.0350613594478007), (298, 0.0), (299, 0.017808592471033984), (300, 0.0047858741916714615), (301, 0.0), (302, 0.011319701905392315), (303, 0.005833792659491356), (304, 0.005441392567666631), (305, 0.040201161615624294), (306, 0.0), (307, 0.005593829955603053), (308, 0.004927656355264282), (309, 0.013158553522904825), (310, 0.005667371745959697), (311, 0.01203942889548466), (312, 0.011766937497559958), (313, 0.0067914150468719224), (314, 0.0), (315, 0.015266784664857163), (316, 0.0), (317, 0.0), (318, 0.010606576142323512), (319, 0.0142408179543201), (320, 0.013464429810703053), (321, 0.0), (322, 0.017925319594230132), (323, 0.0), (324, 0.010917565058947946), (325, 0.0), (326, 0.023516593139279018), (327, 0.020189210343887033), (328, 0.12188313538843791), (329, 0.024467824021755905), (330, 0.047488670931634364), (331, 0.01672987387277568), (332, 0.014078114863467047), (333, 0.0), (334, 0.02512310757394401), (335, 0.0515731024640768), (336, 0.01059560305353725), (337, 0.00378030128353044), (338, 0.0), (339, 0.006161253147313547), (340, 0.010331967833861729), (341, 0.011005258378771879), (342, 0.012241114959397843), (343, 0.0), (344, 0.0047856885795025655), (345, 0.006446067322726811), (346, 0.010593548403504124), (347, 0.013804091883162516), (348, 0.0), (349, 0.010850348537430707), (350, 0.013599921638516454), (351, 0.0), (352, 0.0), (353, 0.004702005474727087), (354, 0.02168010260760545), (355, 0.006044481411840384), (356, 0.005953033944058453), (357, 0.0), (358, 0.010947587914734536), (359, 0.0), (360, 0.0), (361, 0.005625526046632456), (362, 0.01899956732581026), (363, 0.035108467432305376), (364, 0.010082889702766513), (365, 0.017651806611132033), (366, 0.005074409577238806), (367, 0.007475768354738318), (368, 0.00981699921332685), (369, 0.07200363602588968), (370, 0.04086997614785132), (371, 0.004552215432566481), (372, 0.005424611415888522), (373, 0.0), (374, 0.020307525628535834), (375, 0.019008423769627705), (376, 0.005422655241220353), (377, 0.005700002015137121), (378, 0.0), (379, 0.024730642337582667), (380, 0.0), (381, 0.02111414221240898), (382, 0.16501718739122473), (383, 0.012549485592740496), (384, 0.007493306861647002), (385, 0.0), (386, 0.005995185713333774), (387, 0.020953696629550968), (388, 0.0), (389, 0.005628719345012436), (390, 0.02344357227664464), (391, 0.02132083378337596), (392, 0.005466081752995494), (393, 0.023360276241044715), (394, 0.058333283139836184), (395, 0.0), (396, 0.006109989604718629), (397, 0.05921677249486418), (398, 0.007591679053542934), (399, 0.0), (400, 0.015513084961853446), (401, 0.0), (402, 0.00565992294544455), (403, 0.016083408378456007), (404, 0.0), (405, 0.010432401314489286), (406, 0.010979240751469175), (407, 0.010255340861720261), (408, 0.04943684681248262), (409, 0.0), (410, 0.03834031865200322), (411, 0.010331022302783318), (412, 0.012415497184362946), (413, 0.011828713840671882), (414, 0.0), (415, 0.006123824704418708), (416, 0.010752683575190795), (417, 0.010255016276196028), (418, 0.012179375505913723), (419, 0.04346760539990521), (420, 0.018573284921862603), (421, 0.0), (422, 0.0), (423, 0.012196127282904872), (424, 0.005670397567190813), (425, 0.006314244164880221), (426, 0.010824025060179675), (427, 0.0), (428, 0.018300600462419922), (429, 0.0), (430, 0.0), (431, 0.07162555953125828), (432, 0.005660515678119308), (433, 0.006323552060611521), (434, 0.0), (435, 0.011833857043280415), (436, 0.012663594302292165), (437, 0.006394073147867369), (438, 0.0), (439, 0.0), (440, 0.0), (441, 0.007391164748961877), (442, 0.004945041645601714), (443, 0.010281503180311726), (444, 0.01865131607869521), (445, 0.0), (446, 0.005579405111985084), (447, 0.006309913734668895), (448, 0.0979633602202219), (449, 0.0052918081678426845), (450, 0.0), (451, 0.045264730423160704), (452, 0.009815616324060913), (453, 0.006031970005395798), (454, 0.0), (455, 0.005623985357207226), (456, 0.005275895153726124), (457, 0.005533426624245219), (458, 0.0), (459, 0.011336408098815328), (460, 0.01202967172764797), (461, 0.0), (462, 0.0), (463, 0.0), (464, 0.0122537330938183), (465, 0.026012573517983584), (466, 0.006299426217296247), (467, 0.019431107435403976), (468, 0.02593577526515801), (469, 0.005214531553561786), (470, 0.010857667554175351), (471, 0.00976575194479437), (472, 0.01665143748170675), (473, 0.011274357085292938), (474, 0.0), (475, 0.004857903182302138), (476, 0.01803055447660979), (477, 0.0), (478, 0.005696493207078588), (479, 0.0), (480, 0.005898990299790542), (481, 0.0), (482, 0.0), (483, 0.005131485231781481), (484, 0.019506338486168093), (485, 0.0274977729312073), (486, 0.01649995045293052), (487, 0.00495610594463766), (488, 0.01014162196618597), (489, 0.00548795932806604), (490, 0.005563644547538761), (491, 0.004973136997803763), (492, 0.0), (493, 0.007795749262404548), (494, 0.042822988057107256), (495, 0.005753853076330775), (496, 0.01321314034181357), (497, 0.0), (498, 0.0), (499, 0.0), (500, 0.005438662976139185), (501, 0.05877792672000437), (502, 0.0), (503, 0.005125556406891578), (504, 0.0), (505, 0.060232259920788914), (506, 0.0), (507, 0.005607633371630022), (508, 0.00574619073457988), (509, 0.0), (510, 0.013138246725994715), (511, 0.005892736688788426), (512, 0.056791154568112984), (513, 0.004704992170107824), (514, 0.0), (515, 0.006680464941339821), (516, 0.011078719069693028), (517, 0.01128637862547293), (518, 0.00653657113402873), (519, 0.0), (520, 0.0), (521, 0.0), (522, 0.0), (523, 0.005807652002438611), (524, 0.0), (525, 0.08193925213349629), (526, 0.0), (527, 0.0), (528, 0.009963198441115238), (529, 0.005125369093608076), (530, 0.006268902841998771), (531, 0.012267639872890911), (532, 0.01179122893210597), (533, 0.03392947485473336), (534, 0.006569776105880265), (535, 0.0122104067349454), (536, 0.0), (537, 0.016624164684971396), (538, 0.0), (539, 0.00627846812372887), (540, 0.007384247303745764), (541, 0.004569488889172641), (542, 0.005233049390709819), (543, 0.014383362654148937), (544, 0.013155856014536001), (545, 0.0), (546, 0.03937683034051888), (547, 0.029471675066857213), (548, 0.007221371685472191), (549, 0.0), (550, 0.0), (551, 0.0), (552, 0.0), (553, 0.005819702361243835), (554, 0.007499890869118817), (555, 0.01113641639786706), (556, 0.023818109256795627), (557, 0.02102892588947718), (558, 0.0), (559, 0.025903616407568903), (560, 0.012791174424136253), (561, 0.019817765890580583), (562, 0.0), (563, 0.011700837120595732), (564, 0.0), (565, 0.012263400871170433), (566, 0.0), (567, 0.0), (568, 0.01280994803630811), (569, 0.0), (570, 0.03411851354353802), (571, 0.0052988988864813525), (572, 0.022521817536956014), (573, 0.04178011305504145), (574, 0.01280457565722289), (575, 0.0), (576, 0.009906870122008603), (577, 0.005278930026941329), (578, 0.011144400059405807), (579, 0.01998535857782642), (580, 0.005425344957631657), (581, 0.005106306783151033), (582, 0.005428849841823206), (583, 0.010979628554380358), (584, 0.027763532769131356), (585, 0.0), (586, 0.005000853572537253), (587, 0.014937372559189983), (588, 0.0), (589, 0.017070370311517653), (590, 0.0055210161228256855), (591, 0.012185557626245236), (592, 0.006663814658897121), (593, 0.01195449825474477), (594, 0.00577580143078112), (595, 0.005160712161636236), (596, 0.013720540090833943), (597, 0.028775877009672865), (598, 0.0), (599, 0.006724021203851276), (600, 0.006745789120370668), (601, 0.006211663139157942), (602, 0.037782292522557936), (603, 0.0), (604, 0.005589997839277485), (605, 0.0), (606, 0.0), (607, 0.0057051368165349165), (608, 0.0), (609, 0.0059431939281644015), (610, 0.011957030535427144), (611, 0.015793723115303446), (612, 0.03627715667483895), (613, 0.005460558406039785), (614, 0.0), (615, 0.0052332684897835454), (616, 0.0), (617, 0.0), (618, 0.014775660733751698), (619, 0.0), (620, 0.0), (621, 0.0051741403443198815), (622, 0.0058238619353104286), (623, 0.0), (624, 0.015255575552006871), (625, 0.0), (626, 0.0), (627, 0.024213771207706687), (628, 0.0), (629, 0.0047200691550905345), (630, 0.025427814569102786), (631, 0.02616663696301621), (632, 0.023895546627344666), (633, 0.033155507370076304), (634, 0.005530620930935096), (635, 0.0), (636, 0.011030304664695793), (637, 0.0), (638, 0.007272489704343062), (639, 0.05760854609982699), (640, 0.005485246744891292), (641, 0.0), (642, 0.007122080540763841), (643, 0.02892149256264695), (644, 0.013236936323248025), (645, 0.005867081030536829), (646, 0.009788824781419956), (647, 0.0), (648, 0.06469077733732337), (649, 0.0), (650, 0.0), (651, 0.0), (652, 0.0), (653, 0.005667670558690549), (654, 0.005949989762098206), (655, 0.006117795256655892), (656, 0.0), (657, 0.0059078943101260484), (658, 0.012685818881652693), (659, 0.005764057278258305), (660, 0.007284502618171372), (661, 0.012111347050926872), (662, 0.0), (663, 0.0), (664, 0.01756250347930475), (665, 0.004874704118260081), (666, 0.010621590598917964), (667, 0.0), (668, 0.016773483609286002), (669, 0.0), (670, 0.007501182484224933), (671, 0.01928000407739537), (672, 0.011724512633092791), (673, 0.0), (674, 0.007241624875364054), (675, 0.019885519717104675), (676, 0.012592516453752083), (677, 0.11987005023906433), (678, 0.006522460126424078), (679, 0.0), (680, 0.005005467623594793), (681, 0.0), (682, 0.0), (683, 0.005144936449539918), (684, 0.02611958838708253), (685, 0.005724914691498215), (686, 0.010176368158029943), (687, 0.005433164389016779), (688, 0.0), (689, 0.0), (690, 0.02392595192161453), (691, 0.005236872984887638), (692, 0.026192808662578983), (693, 0.0), (694, 0.005462855843157086), (695, 0.0049731991030861926), (696, 0.012783824218099456), (697, 0.0), (698, 0.03211012651738635), (699, 0.0), (700, 0.005688589062632626), (701, 0.08355498391057392), (702, 0.005839543948383525), (703, 0.0), (704, 0.0), (705, 0.0), (706, 0.0), (707, 0.0), (708, 0.005197972228457222), (709, 0.05036532044043127), (710, 0.012932620020610356), (711, 0.00487686396767569), (712, 0.01173032073220319), (713, 0.021709314051347343), (714, 0.0), (715, 0.020167308329357533), (716, 0.013006963768098114), (717, 0.0), (718, 0.004521064421913282), (719, 0.0), (720, 0.0), (721, 0.0), (722, 0.0), (723, 0.0), (724, 0.005614715073507072), (725, 0.0), (726, 0.0), (727, 0.0), (728, 0.015559065770096298), (729, 0.0), (730, 0.01777800225603501), (731, 0.006114250197945713), (732, 0.006380868300344741), (733, 0.0), (734, 0.0), (735, 0.011843905669082598), (736, 0.004973569054363381), (737, 0.005698362878542339), (738, 0.0), (739, 0.005314197040513524), (740, 0.005977268064506323), (741, 0.01256720050729285), (742, 0.01005934954643625), (743, 0.02363285531183751), (744, 0.024025818215044747), (745, 0.005334498128342496), (746, 0.03415002853396541), (747, 0.005805148739264022), (748, 0.0), (749, 0.0), (750, 0.007319206080557764), (751, 0.0), (752, 0.006799021711060522), (753, 0.005807261513109875), (754, 0.0), (755, 0.00571927236070044), (756, 0.0), (757, 0.0), (758, 0.008133416765647094), (759, 0.01855918477130024), (760, 0.0), (761, 0.005275513894901965), (762, 0.03550874695051297), (763, 0.007818350494365361), (764, 0.08760822386987276), (765, 0.0), (766, 0.0), (767, 0.08111467229080588), (768, 0.017158811109783515), (769, 0.0), (770, 0.019911106696418077), (771, 0.0), (772, 0.0), (773, 0.057888538249511526), (774, 0.020963027330618417), (775, 0.017540891092902827), (776, 0.012129693370509044), (777, 0.005532057610082248), (778, 0.007653662739117903), (779, 0.007727475407103088), (780, 0.0), (781, 0.010577704498961704), (782, 0.012968414185696057), (783, 0.0), (784, 0.048919125631287114), (785, 0.007702389507937525), (786, 0.01854197527362659), (787, 0.055939861980427955), (788, 0.012446165972582343), (789, 0.0), (790, 0.005499731544900486), (791, 0.012810700114410382), (792, 0.010559019651056656), (793, 0.0), (794, 0.004594969313958895), (795, 0.0), (796, 0.0), (797, 0.02267623162136358), (798, 0.024077284339825093), (799, 0.011954942650205292), (800, 0.010159319956907924), (801, 0.0), (802, 0.006875379086434513), (803, 0.012802796831346995), (804, 0.005784518274993878), (805, 0.015727127474819736), (806, 0.0), (807, 0.005953661695665989), (808, 0.005680483099883865), (809, 0.0064782170385441085), (810, 0.011530474714580484), (811, 0.0578088520941183), (812, 0.028859434617005207), (813, 0.01644923776772983), (814, 0.021293734694111083), (815, 0.012695822379461777), (816, 0.021767680361909503), (817, 0.0), (818, 0.005944776255890089), (819, 0.0), (820, 0.011635310404910613), (821, 0.0055368616239221844), (822, 0.0), (823, 0.005685917069187833), (824, 0.012584249840700312), (825, 0.02629504302038832), (826, 0.032839605123814945), (827, 0.03006422521900863), (828, 0.005933062199679581), (829, 0.0), (830, 0.005038010394179444), (831, 0.02113677642818504), (832, 0.04621292077591599), (833, 0.00537403738933725), (834, 0.005833650442104954), (835, 0.0), (836, 0.03270850746270225), (837, 0.05458406004502326), (838, 0.0060520715731322), (839, 0.006460829195795501), (840, 0.005371973471854347), (841, 0.0), (842, 0.0), (843, 0.0), (844, 0.005671737067584961), (845, 0.0), (846, 0.0), (847, 0.0), (848, 0.0), (849, 0.029699249215575083), (850, 0.005636593535280301), (851, 0.0), (852, 0.028952810796317303), (853, 0.0), (854, 0.005124564183219662), (855, 0.0), (856, 0.012351658158247326), (857, 0.0), (858, 0.012349781857532525), (859, 0.014870724493497342), (860, 0.0), (861, 0.056293422176603006), (862, 0.04539816993851513), (863, 0.005925193021597935), (864, 0.015958125872926485), (865, 0.0), (866, 0.006419437549799852), (867, 0.027721235569820885), (868, 0.08654153721754176), (869, 0.00868087852919473), (870, 0.024624426587020437), (871, 0.0076599250882194185), (872, 0.036269857759563005), (873, 0.005805290770991062), (874, 0.006941559381412214), (875, 0.0), (876, 0.0), (877, 0.0), (878, 0.0), (879, 0.0), (880, 0.005406600145216771), (881, 0.008959000489577582), (882, 0.0), (883, 0.0073527577552583755), (884, 0.0), (885, 0.0), (886, 0.0), (887, 0.0), (888, 0.005547750776223018), (889, 0.0), (890, 0.0), (891, 0.0), (892, 0.011881872677115558), (893, 0.00535845407830629), (894, 0.041355682509409464), (895, 0.0), (896, 0.029844179048947272), (897, 0.0), (898, 0.011843257079488368), (899, 0.011792427142831447), (900, 0.0), (901, 0.012932462593795567), (902, 0.0), (903, 0.03699937096006805), (904, 0.011685013354473429), (905, 0.0), (906, 0.007650188670897142), (907, 0.0), (908, 0.0), (909, 0.0), (910, 0.007360911196480639), (911, 0.040805993980735644), (912, 0.08077455785032459), (913, 0.0), (914, 0.005090412361705852), (915, 0.0), (916, 0.0), (917, 0.025001135838189414), (918, 0.0640694986567972), (919, 0.006083404854374481), (920, 0.005371188990532804), (921, 0.0), (922, 0.013107600309324365), (923, 0.019882564764147414), (924, 0.0), (925, 0.0), (926, 0.0), (927, 0.0), (928, 0.0), (929, 0.005007139462287408), (930, 0.005193096491374926), (931, 0.011833927377992166), (932, 0.03209318677593763), (933, 0.00563569176056975), (934, 0.018563085514612297), (935, 0.011674549231767417), (936, 0.0), (937, 0.01567481724905892), (938, 0.031010225469879346), (939, 0.004725077141053576), (940, 0.0), (941, 0.015231221535183213), (942, 0.007907460152172129), (943, 0.021983977858370366), (944, 0.0), (945, 0.0056070473080768015), (946, 0.017687651299996814), (947, 0.006819177258910543), (948, 0.0), (949, 0.0), (950, 0.005026384967177095), (951, 0.005571816149906711), (952, 0.006238005507570064), (953, 0.011735380611047943), (954, 0.0), (955, 0.005208328196052662), (956, 0.005778266342468884), (957, 0.0), (958, 0.0), (959, 0.004950051190238331), (960, 0.0), (961, 0.0), (962, 0.03455171767724994), (963, 0.015598587956166001), (964, 0.0647718433827454), (965, 0.0), (966, 0.0), (967, 0.01154889905370968), (968, 0.0), (969, 0.019317891161684923), (970, 0.023638658533464002), (971, 0.007952369199054288), (972, 0.013655129263505428), (973, 0.005076739735586856), (974, 0.0), (975, 0.0), (976, 0.10254994461653802), (977, 0.01750302994640749), (978, 0.10101660950536458), (979, 0.005801115080679996), (980, 0.0), (981, 0.02813604890456834), (982, 0.00576239170554741), (983, 0.0), (984, 0.006253958518641145), (985, 0.006483497086436197), (986, 0.051471020671959064), (987, 0.0), (988, 0.005503114716263124), (989, 0.005206175712162395), (990, 0.012599338355061794), (991, 0.0), (992, 0.005506505156074233), (993, 0.005905464533828108), (994, 0.00471794561940118), (995, 0.01042810256677474), (996, 0.0), (997, 0.0), (998, 0.0), (999, 0.0), (1000, 0.02401501060209944), (1001, 0.03194318800705939), (1002, 0.07084454785402045), (1003, 0.004845323163350542), (1004, 0.07401754213196382), (1005, 0.0), (1006, 0.024705231341245987), (1007, 0.006956690775575681), (1008, 0.0041247257379295734), (1009, 0.0), (1010, 0.0), (1011, 0.0), (1012, 0.051205359237555655), (1013, 0.0), (1014, 0.0), (1015, 0.0), (1016, 0.058883744172247086), (1017, 0.03904961870628705), (1018, 0.009490900453853365), (1019, 0.0260775641919455), (1020, 0.006283219828807434), (1021, 0.0), (1022, 0.0), (1023, 0.006993560358820839), (1024, 0.0388187418218789), (1025, 0.0), (1026, 0.0), (1027, 0.0054805362522092615), (1028, 0.03104802973217398), (1029, 0.039317424897138006), (1030, 0.006652249911683233), (1031, 0.013524364328124447), (1032, 0.0), (1033, 0.0), (1034, 0.005324506032803541), (1035, 0.01763864331501224), (1036, 0.0), (1037, 0.0), (1038, 0.007091549551626293), (1039, 0.0), (1040, 0.043396292488948454), (1041, 0.005040759858383413), (1042, 0.07837125655047433), (1043, 0.027237226212450116), (1044, 0.0051083872405685736), (1045, 0.0), (1046, 0.01891034723078066), (1047, 0.0056270532811546325), (1048, 0.007699250326229585), (1049, 0.016296467471429897), (1050, 0.03445725085700191), (1051, 0.0), (1052, 0.0048374601718553486), (1053, 0.02958678218600452), (1054, 0.008801504742437854), (1055, 0.011603775649664015), (1056, 0.005071252292428713), (1057, 0.0), (1058, 0.004994085602775729), (1059, 0.0), (1060, 0.0), (1061, 0.0), (1062, 0.007010188594304121), (1063, 0.0298095841724942), (1064, 0.014013846229830481), (1065, 0.030959031036616756), (1066, 0.0), (1067, 0.0), (1068, 0.021453429396250202), (1069, 0.0), (1070, 0.005913260976169556), (1071, 0.0), (1072, 0.0), (1073, 0.005857554481169474), (1074, 0.04122267921390015), (1075, 0.0), (1076, 0.005882107539024155), (1077, 0.0045380101850732565), (1078, 0.011298160347115359), (1079, 0.005119592783877002), (1080, 0.0), (1081, 0.021350767406253527), (1082, 0.011175901462907582), (1083, 0.005931754506159978), (1084, 0.04660196052486526), (1085, 0.022415597318978377), (1086, 0.017786398732290962), (1087, 0.0), (1088, 0.0), (1089, 0.06176864466478642), (1090, 0.020494736774946214), (1091, 0.0), (1092, 0.0), (1093, 0.005408382900779214), (1094, 0.0), (1095, 0.014773740653667648), (1096, 0.005315488956464091), (1097, 0.005172876434235233), (1098, 0.0), (1099, 0.008442773457513705), (1100, 0.005359477044670857), (1101, 0.03714343572485218), (1102, 0.0), (1103, 0.0053512919458069295), (1104, 0.005186234035945141), (1105, 0.0), (1106, 0.012102367740543098), (1107, 0.012923212971204428), (1108, 0.0), (1109, 0.02232516003647262), (1110, 0.01647519650122036), (1111, 0.016089228336834214), (1112, 0.0), (1113, 0.007519995465520228), (1114, 0.006508192283118335), (1115, 0.0), (1116, 0.029635105789217388), (1117, 0.0), (1118, 0.005938676736143842), (1119, 0.03238166414418422), (1120, 0.0), (1121, 0.0), (1122, 0.0), (1123, 0.00727727025112682), (1124, 0.011922092124089888), (1125, 0.0), (1126, 0.009764271028000064), (1127, 0.0), (1128, 0.0), (1129, 0.0), (1130, 0.0), (1131, 0.045829984447196444), (1132, 0.024927858958183034), (1133, 0.006130736717982636), (1134, 0.010759589148232017), (1135, 0.0), (1136, 0.058417287800861), (1137, 0.005392071595563399), (1138, 0.043407002614202786), (1139, 0.016961913788149527), (1140, 0.004848651418427894), (1141, 0.0), (1142, 0.0), (1143, 0.005946074121240462), (1144, 0.017833213265720068), (1145, 0.03398922248825187), (1146, 0.02435330714054104), (1147, 0.0), (1148, 0.006625021390042081), (1149, 0.0), (1150, 0.03023386403474415), (1151, 0.0), (1152, 0.009916094276083427), (1153, 0.025917218262610422), (1154, 0.0198298795738679), (1155, 0.005086453338826658), (1156, 0.0), (1157, 0.007259075904183086), (1158, 0.01311023333626717), (1159, 0.0), (1160, 0.01811324069638472), (1161, 0.0), (1162, 0.0), (1163, 0.0), (1164, 0.006972080547153099), (1165, 0.0), (1166, 0.0), (1167, 0.0), (1168, 0.0), (1169, 0.008101439134915182), (1170, 0.0), (1171, 0.0), (1172, 0.006889216384752853), (1173, 0.0), (1174, 0.005027306159830455), (1175, 0.00529279795500083), (1176, 0.03650175221564106), (1177, 0.004584584459476684), (1178, 0.013981136633842343), (1179, 0.0), (1180, 0.0), (1181, 0.0), (1182, 0.007297669806237394), (1183, 0.048470578104026704), (1184, 0.0), (1185, 0.0), (1186, 0.0), (1187, 0.007161142117846177), (1188, 0.005385513672504781), (1189, 0.0), (1190, 0.008451474086959473), (1191, 0.08524298244808481), (1192, 0.015534215895074125), (1193, 0.12823533301253537), (1194, 0.007808475111773277), (1195, 0.005519766751282465), (1196, 0.0), (1197, 0.0), (1198, 0.0), (1199, 0.029346700640502342), (1200, 0.01254940105926689), (1201, 0.005192806433605495), (1202, 0.005046649058969788), (1203, 0.007747594378833197), (1204, 0.0), (1205, 0.0), (1206, 0.0197565311126034), (1207, 0.013958185506441732), (1208, 0.014051825696840483), (1209, 0.006305109976620052), (1210, 0.0), (1211, 0.0), (1212, 0.023953669415106377), (1213, 0.03299086082714517), (1214, 0.0), (1215, 0.0062753555350228436), (1216, 0.021112135910404884), (1217, 0.019249149909531416), (1218, 0.006953823057823603), (1219, 0.0), (1220, 0.03619165366723831), (1221, 0.006983559537122282), (1222, 0.0), (1223, 0.0), (1224, 0.0), (1225, 0.06709056190530971), (1226, 0.0057367610479267875), (1227, 0.00782072631081691), (1228, 0.0), (1229, 0.0), (1230, 0.017973755960617472), (1231, 0.006794473930151058), (1232, 0.0), (1233, 0.024426823611084406), (1234, 0.013026982102876478), (1235, 0.0), (1236, 0.0), (1237, 0.017268110916719533), (1238, 0.018834391083483986), (1239, 0.09280098679642095), (1240, 0.007447171542474942), (1241, 0.0), (1242, 0.0), (1243, 0.0), (1244, 0.010370950023305058), (1245, 0.06309033986085913), (1246, 0.04520659941744054), (1247, 0.04435560427703496), (1248, 0.0), (1249, 0.013906552279458376), (1250, 0.01953287121468968), (1251, 0.0), (1252, 0.0711697546083846), (1253, 0.007502728443453558), (1254, 0.005893571868797429), (1255, 0.0), (1256, 0.006226852649658244), (1257, 0.0), (1258, 0.0), (1259, 0.03790664870472665), (1260, 0.0), (1261, 0.0), (1262, 0.030396373230266782), (1263, 0.007085026835601728), (1264, 0.0), (1265, 0.0), (1266, 0.07454436553569112), (1267, 0.007844012891161213), (1268, 0.0), (1269, 0.006174557413302188), (1270, 0.005022492515331883), (1271, 0.012396048447265447), (1272, 0.005862381281687073), (1273, 0.006139759598330581), (1274, 0.01549244976586428), (1275, 0.0410680241340519), (1276, 0.04164800684630507), (1277, 0.014640242770361977), (1278, 0.031696193549354615), (1279, 0.005613286985969937), (1280, 0.0), (1281, 0.005049224549733751), (1282, 0.01612367405071459), (1283, 0.0), (1284, 0.0059032488102083655), (1285, 0.005951524344294926), (1286, 0.004587163723588346), (1287, 0.011078536612373084), (1288, 0.0075643381910790045), (1289, 0.01856900599394062), (1290, 0.005110620210715781), (1291, 0.01355474799062852), (1292, 0.0), (1293, 0.0), (1294, 0.00558807320009637), (1295, 0.0), (1296, 0.036399352705725335), (1297, 0.0), (1298, 0.004683012855958153), (1299, 0.0), (1300, 0.007526478417426734), (1301, 0.0), (1302, 0.005862657842549275), (1303, 0.005441900737780084), (1304, 0.003956017420369272), (1305, 0.0), (1306, 0.013392053110402662), (1307, 0.0), (1308, 0.0), (1309, 0.0), (1310, 0.015466537889585295), (1311, 0.0), (1312, 0.0), (1313, 0.007156693454308868), (1314, 0.0), (1315, 0.007047169093826116), (1316, 0.0), (1317, 0.01388488139875476), (1318, 0.0), (1319, 0.005645438378393993), (1320, 0.035514547319786094), (1321, 0.018243848392064343), (1322, 0.011562813730636957), (1323, 0.0), (1324, 0.00573281410857346), (1325, 0.0), (1326, 0.0), (1327, 0.0), (1328, 0.007143241397142322), (1329, 0.0), (1330, 0.0), (1331, 0.01144233575882497), (1332, 0.005059832391038166), (1333, 0.0), (1334, 0.02673512534117024), (1335, 0.0), (1336, 0.0074901974204729825), (1337, 0.011208199038841116), (1338, 0.0), (1339, 0.005740596216607882), (1340, 0.0), (1341, 0.01066168795422477), (1342, 0.006159496580122133), (1343, 0.015871409115269595), (1344, 0.0), (1345, 0.0), (1346, 0.0), (1347, 0.03235867985398422), (1348, 0.0), (1349, 0.0465172914990037), (1350, 0.007854244217589408), (1351, 0.0), (1352, 0.0), (1353, 0.0), (1354, 0.0), (1355, 0.0), (1356, 0.0), (1357, 0.006802349382514705), (1358, 0.0), (1359, 0.03514905655970911), (1360, 0.0), (1361, 0.0051644204637862345), (1362, 0.0), (1363, 0.03177299159536357), (1364, 0.1315753447298594), (1365, 0.05611616985040816), (1366, 0.013246785004512204), (1367, 0.011360770538684593), (1368, 0.010487087984307105), (1369, 0.0), (1370, 0.006230125915460231), (1371, 0.0), (1372, 0.0), (1373, 0.0763224255423483), (1374, 0.011101975999983839), (1375, 0.0), (1376, 0.0), (1377, 0.0060486843633241775), (1378, 0.0), (1379, 0.0071267561918102055), (1380, 0.02080183823762692), (1381, 0.0), (1382, 0.0), (1383, 0.0), (1384, 0.022151000558037124), (1385, 0.0), (1386, 0.0), (1387, 0.0), (1388, 0.0073813225117787245), (1389, 0.0), (1390, 0.018067441408810718), (1391, 0.0), (1392, 0.0), (1393, 0.0), (1394, 0.013227020151103374), (1395, 0.0057951117140909785), (1396, 0.0), (1397, 0.006827938108500314), (1398, 0.006245275372874648), (1399, 0.037007614809788605), (1400, 0.0), (1401, 0.0), (1402, 0.011610176275820455), (1403, 0.0), (1404, 0.010301806876596556), (1405, 0.025382207564813023), (1406, 0.0), (1407, 0.0), (1408, 0.05369061457241227), (1409, 0.0), (1410, 0.0), (1411, 0.011318607645380148), (1412, 0.02207648901324684), (1413, 0.0), (1414, 0.0), (1415, 0.02616959823470318), (1416, 0.027611554503066557), (1417, 0.006423848756878588), (1418, 0.0), (1419, 0.005675484783126868), (1420, 0.02263436845964624), (1421, 0.031403327577355054), (1422, 0.0), (1423, 0.0120291178557248), (1424, 0.0), (1425, 0.006105504718486657), (1426, 0.0), (1427, 0.09195252622756761), (1428, 0.011668056094637363), (1429, 0.0), (1430, 0.0), (1431, 0.005281646276072887), (1432, 0.013404738834072193), (1433, 0.0), (1434, 0.005873708676350895), (1435, 0.09844672492278536), (1436, 0.0), (1437, 0.005045016056569026), (1438, 0.015332193393267447), (1439, 0.009927823315652144), (1440, 0.07911764566647816), (1441, 0.0), (1442, 0.0), (1443, 0.023783087396040244), (1444, 0.0), (1445, 0.005757813845430539), (1446, 0.011346876083008854), (1447, 0.005355232466567512), (1448, 0.028200202498086562), (1449, 0.011110864988970045), (1450, 0.005222277465297219), (1451, 0.010815943695921277), (1452, 0.011719267490039917), (1453, 0.01515043647279258), (1454, 0.0), (1455, 0.0), (1456, 0.01010010318353722), (1457, 0.005507950340109964), (1458, 0.01956042563301085), (1459, 0.011487880049166264), (1460, 0.0), (1461, 0.06775530538248792), (1462, 0.0), (1463, 0.03542396020124481), (1464, 0.0), (1465, 0.005481416914652934), (1466, 0.0474455514240088), (1467, 0.04479198563889954), (1468, 0.007588082682231285), (1469, 0.03620364056833954), (1470, 0.005648513673642925), (1471, 0.03755663013093847), (1472, 0.04182762018428762), (1473, 0.0), (1474, 0.008297647104723097), (1475, 0.0), (1476, 0.0), (1477, 0.07805694973631243), (1478, 0.008991556604742478), (1479, 0.006436260917898376), (1480, 0.0), (1481, 0.010360205911632215), (1482, 0.005365184509416167), (1483, 0.037360156293357996), (1484, 0.005045738613329682), (1485, 0.019232841107069333), (1486, 0.005650114215711544), (1487, 0.0), (1488, 0.019759919846224133), (1489, 0.0), (1490, 0.013618402213522767), (1491, 0.00543302754907379), (1492, 0.0), (1493, 0.0), (1494, 0.021990880656344112), (1495, 0.01076386438388318), (1496, 0.010924724790247229), (1497, 0.009874653943703179), (1498, 0.0), (1499, 0.0), (1500, 0.0574545369673431), (1501, 0.0), (1502, 0.0), (1503, 0.007019451598786642), (1504, 0.0), (1505, 0.006142172539283162), (1506, 0.012443484830891534), (1507, 0.0053022357059064875), (1508, 0.012999878099428106), (1509, 0.0), (1510, 0.005708334376212016), (1511, 0.0), (1512, 0.0), (1513, 0.005082261319051476), (1514, 0.07421741595022244), (1515, 0.005814600157320049), (1516, 0.0), (1517, 0.004591270805983862), (1518, 0.014251032612452974), (1519, 0.008816848393460627), (1520, 0.014256168232350293), (1521, 0.0), (1522, 0.0), (1523, 0.1167833101290838), (1524, 0.014183789822509412), (1525, 0.021690533173137457), (1526, 0.0), (1527, 0.0065478505276664), (1528, 0.006443081580951258), (1529, 0.0), (1530, 0.0), (1531, 0.004659905072630736), (1532, 0.0), (1533, 0.09756374595438325), (1534, 0.04898807469595877), (1535, 0.0), (1536, 0.0), (1537, 0.0), (1538, 0.0050108874257257215), (1539, 0.0), (1540, 0.007426227934064205), (1541, 0.0), (1542, 0.005442661732556964), (1543, 0.047768818226095834), (1544, 0.0), (1545, 0.0), (1546, 0.04123686498001537), (1547, 0.0), (1548, 0.0), (1549, 0.010258199490974748), (1550, 0.0), (1551, 0.0), (1552, 0.0), (1553, 0.0), (1554, 0.0), (1555, 0.0), (1556, 0.023946698777076204), (1557, 0.0), (1558, 0.05188900376655237), (1559, 0.18281312771525624), (1560, 0.011789411274863063), (1561, 0.006188566077014051), (1562, 0.0), (1563, 0.0), (1564, 0.0), (1565, 0.0074820979053048095), (1566, 0.0), (1567, 0.031207058692351273), (1568, 0.005317778694829007), (1569, 0.015488743206360287), (1570, 0.009579359410778454), (1571, 0.0), (1572, 0.0), (1573, 0.0053592020213949175), (1574, 0.0), (1575, 0.0), (1576, 0.0), (1577, 0.03294691516959331), (1578, 0.00997327785856848), (1579, 0.013811283996967573), (1580, 0.0), (1581, 0.0), (1582, 0.007338103403890017), (1583, 0.037579271898705635), (1584, 0.009432218836987073), (1585, 0.0), (1586, 0.01783284812516206), (1587, 0.0), (1588, 0.0), (1589, 0.006735164364263411), (1590, 0.03218738483160301), (1591, 0.030759237487162954), (1592, 0.005396052995442844), (1593, 0.0), (1594, 0.010533752499146726), (1595, 0.01859887862913372), (1596, 0.005606266940222854), (1597, 0.0070390378835034845), (1598, 0.11454660709309697), (1599, 0.011713601867454217), (1600, 0.0), (1601, 0.0), (1602, 0.0), (1603, 0.01176869470665682), (1604, 0.0), (1605, 0.0), (1606, 0.04106367141323663), (1607, 0.0064394803413468), (1608, 0.00475182671638581), (1609, 0.0), (1610, 0.005676028875125205), (1611, 0.022123910148767655), (1612, 0.028888637665560754), (1613, 0.054759903481821935), (1614, 0.0), (1615, 0.005646380717949621), (1616, 0.02383818649491643), (1617, 0.005704739262838955), (1618, 0.0), (1619, 0.011163575044763863), (1620, 0.0), (1621, 0.008076200530950648), (1622, 0.006227740222773523), (1623, 0.025947135071747368), (1624, 0.008672535072423595), (1625, 0.005336853757302078), (1626, 0.014599110122006634), (1627, 0.0), (1628, 0.005937899094701304), (1629, 0.0), (1630, 0.0), (1631, 0.0), (1632, 0.0), (1633, 0.005872600760386456), (1634, 0.0), (1635, 0.0053237600031665), (1636, 0.006106681663395658), (1637, 0.0039003183325949605), (1638, 0.0), (1639, 0.0), (1640, 0.0), (1641, 0.0), (1642, 0.0), (1643, 0.00992469599092706), (1644, 0.0), (1645, 0.0053192977876283755), (1646, 0.0), (1647, 0.007991657797327033), (1648, 0.0), (1649, 0.0), (1650, 0.010097713056033984), (1651, 0.007599368451901437), (1652, 0.06000140920952174), (1653, 0.005264994288673174), (1654, 0.026625016328551597), (1655, 0.020479795864313633), (1656, 0.0), (1657, 0.0336698866060394), (1658, 0.013584698867281624), (1659, 0.005928822933483212), (1660, 0.0), (1661, 0.005445240845613563), (1662, 0.0), (1663, 0.0393839887687644), (1664, 0.005308555233862109), (1665, 0.0), (1666, 0.0), (1667, 0.007307920188250362), (1668, 0.06901865881976736), (1669, 0.01585054189668475), (1670, 0.004047466672275044), (1671, 0.0246902231847508), (1672, 0.011724978246408356), (1673, 0.0), (1674, 0.022640242578302477), (1675, 0.015163863990232455), (1676, 0.0), (1677, 0.0), (1678, 0.021750398748086576), (1679, 0.0), (1680, 0.0326007491346005), (1681, 0.0), (1682, 0.011697457245191138), (1683, 0.0), (1684, 0.011933509764208), (1685, 0.0), (1686, 0.02834198145940472), (1687, 0.01960011999115093), (1688, 0.02118333471824494), (1689, 0.0), (1690, 0.0), (1691, 0.0), (1692, 0.0), (1693, 0.0), (1694, 0.0116995955781129), (1695, 0.012331510076906966), (1696, 0.007332185923882432), (1697, 0.005081284278765211), (1698, 0.0), (1699, 0.005859084005695577), (1700, 0.0), (1701, 0.0074195042061878935), (1702, 0.005486981135489448), (1703, 0.0), (1704, 0.0), (1705, 0.0), (1706, 0.0), (1707, 0.015332772588261006), (1708, 0.013783169646740713), (1709, 0.0), (1710, 0.0), (1711, 0.012124335589187909), (1712, 0.0), (1713, 0.045770974301221595), (1714, 0.0), (1715, 0.004573503984984291), (1716, 0.0), (1717, 0.0), (1718, 0.016182760899117958), (1719, 0.056864546956140544), (1720, 0.005594134144412307), (1721, 0.004798478513043779), (1722, 0.006922909487148236), (1723, 0.03242345957547914), (1724, 0.00794291240466686), (1725, 0.01077620704984743), (1726, 0.0), (1727, 0.006369226121203584), (1728, 0.018245943644547638), (1729, 0.0), (1730, 0.0), (1731, 0.046450494424100236), (1732, 0.008240921600102983), (1733, 0.006233748602974245), (1734, 0.010343282923875895), (1735, 0.004677432295765206), (1736, 0.0), (1737, 0.034102843754637), (1738, 0.0), (1739, 0.007436760698603548), (1740, 0.005692486511736655), (1741, 0.005758031081854834), (1742, 0.005587090740295143), (1743, 0.015766316951792397), (1744, 0.0), (1745, 0.006690758147230287), (1746, 0.017077486856902753), (1747, 0.020091987909198472), (1748, 0.02042479755061185), (1749, 0.025872593065290314), (1750, 0.015598311142374593), (1751, 0.011895893275486827), (1752, 0.0), (1753, 0.016598514715407804), (1754, 0.0), (1755, 0.0), (1756, 0.0), (1757, 0.005758497298224518), (1758, 0.0), (1759, 0.022910524261163873), (1760, 0.0), (1761, 0.009295056079809398), (1762, 0.0), (1763, 0.0), (1764, 0.01851277229174818), (1765, 0.00509750198246758), (1766, 0.0), (1767, 0.0), (1768, 0.0), (1769, 0.006729240898526639), (1770, 0.0), (1771, 0.005163299964228862), (1772, 0.0), (1773, 0.011876042589780384), (1774, 0.0), (1775, 0.013515522325191256), (1776, 0.0), (1777, 0.018971756243306527), (1778, 0.0), (1779, 0.0), (1780, 0.007207149168830508), (1781, 0.007538978675783071), (1782, 0.0), (1783, 0.050616185496658604), (1784, 0.0), (1785, 0.0), (1786, 0.0), (1787, 0.04996735942617303), (1788, 0.0), (1789, 0.0), (1790, 0.005729938307840548), (1791, 0.0), (1792, 0.005703400511455046), (1793, 0.12355727076460593), (1794, 0.007534404678294712), (1795, 0.0047126846352532874), (1796, 0.11833294042448733), (1797, 0.0), (1798, 0.0), (1799, 0.03445971504750716), (1800, 0.010551757795253533), (1801, 0.0), (1802, 0.04270839194790223), (1803, 0.0), (1804, 0.02996477310403646), (1805, 0.0), (1806, 0.011817557623290322), (1807, 0.0), (1808, 0.0), (1809, 0.0), (1810, 0.0), (1811, 0.0), (1812, 0.026337230238659824), (1813, 0.019167862993813678), (1814, 0.0), (1815, 0.005474612062092407), (1816, 0.013172898634210863), (1817, 0.009917181233706144), (1818, 0.0), (1819, 0.02149954733775139), (1820, 0.0), (1821, 0.010396567213794521), (1822, 0.010463167581774), (1823, 0.03567283977859857), (1824, 0.0), (1825, 0.0053836484955991585), (1826, 0.005951094514128343), (1827, 0.004947725176286731), (1828, 0.0), (1829, 0.0), (1830, 0.005090789041976423), (1831, 0.03610000958437866), (1832, 0.0), (1833, 0.018799061076023613), (1834, 0.0), (1835, 0.007211196618737702), (1836, 0.026022700923829405), (1837, 0.004401647676528268), (1838, 0.006744374772691798), (1839, 0.04610837041812682), (1840, 0.0), (1841, 0.0), (1842, 0.011916738578149486), (1843, 0.0), (1844, 0.006023397643334521), (1845, 0.0277033060177487), (1846, 0.0), (1847, 0.008034775826751474), (1848, 0.005144880642964771), (1849, 0.03831283631219705), (1850, 0.006126335789010787), (1851, 0.025725685029178165), (1852, 0.020383460797525628), (1853, 0.005532843557252346), (1854, 0.01950923786826904), (1855, 0.0), (1856, 0.0), (1857, 0.0), (1858, 0.011920454922178289), (1859, 0.007064020590160634), (1860, 0.006258316832554597), (1861, 0.0065624288895888725), (1862, 0.0), (1863, 0.0), (1864, 0.0), (1865, 0.011771531076014922), (1866, 0.0), (1867, 0.0), (1868, 0.005824172955132908), (1869, 0.0), (1870, 0.0), (1871, 0.07110189695640268), (1872, 0.005879530183972844), (1873, 0.0), (1874, 0.06704009809211764), (1875, 0.0), (1876, 0.0), (1877, 0.004465600755753006), (1878, 0.00937567661670951), (1879, 0.0224813181402423), (1880, 0.0058294370679330765), (1881, 0.0), (1882, 0.0), (1883, 0.0), (1884, 0.0), (1885, 0.0), (1886, 0.0), (1887, 0.06466510576989962), (1888, 0.0), (1889, 0.0), (1890, 0.03787928616871916), (1891, 0.0), (1892, 0.004947569662133138), (1893, 0.011454024844821862), (1894, 0.006106705232319002), (1895, 0.0), (1896, 0.007126891897179238), (1897, 0.006439952077185477), (1898, 0.012459642789759619), (1899, 0.014201696038427622), (1900, 0.010126058048474289), (1901, 0.0), (1902, 0.02407554848184172), (1903, 0.0), (1904, 0.0), (1905, 0.028686810992366328), (1906, 0.010427353217951152), (1907, 0.011686622886978183), (1908, 0.0052406419873519), (1909, 0.0), (1910, 0.005693727858531667), (1911, 0.0), (1912, 0.0), (1913, 0.023314877234769955), (1914, 0.017886755466334368), (1915, 0.011455046225795145), (1916, 0.0), (1917, 0.011743138110664204), (1918, 0.030931831225200067), (1919, 0.0), (1920, 0.006220257345879832), (1921, 0.0), (1922, 0.023788458680022974), (1923, 0.0), (1924, 0.0), (1925, 0.0), (1926, 0.0), (1927, 0.007065995032605323), (1928, 0.011680863278219496), (1929, 0.0075957764844251565), (1930, 0.03086326581219086), (1931, 0.0), (1932, 0.026687879281416596), (1933, 0.00637436388035478), (1934, 0.0), (1935, 0.0), (1936, 0.014380573241240327), (1937, 0.007241389848192727), (1938, 0.0), (1939, 0.016562418682095098), (1940, 0.00701925376785947), (1941, 0.0), (1942, 0.00982010561723335), (1943, 0.0), (1944, 0.0), (1945, 0.013152626665631597), (1946, 0.0), (1947, 0.0), (1948, 0.0), (1949, 0.030020760270613345), (1950, 0.0), (1951, 0.0), (1952, 0.0), (1953, 0.018493627720463736), (1954, 0.006052050778804582), (1955, 0.004879122751589476), (1956, 0.005893935115870434), (1957, 0.0), (1958, 0.022605112902766768), (1959, 0.009621066119435851), (1960, 0.017018136402758594), (1961, 0.007317088444147919), (1962, 0.007786649028992517), (1963, 0.0), (1964, 0.06414056321852635), (1965, 0.0), (1966, 0.013252743618188886), (1967, 0.051625668841184656), (1968, 0.0), (1969, 0.008321134849435948), (1970, 0.01406781384236425), (1971, 0.0), (1972, 0.0), (1973, 0.00536200405620043), (1974, 0.010588622003298541), (1975, 0.0), (1976, 0.011550580152776753), (1977, 0.01440767001540644), (1978, 0.006521892830925111), (1979, 0.0), (1980, 0.0), (1981, 0.0), (1982, 0.006998646671086389), (1983, 0.00859024793521698), (1984, 0.013459743028786627), (1985, 0.0), (1986, 0.006497847292256204), (1987, 0.009871195500252518), (1988, 0.0), (1989, 0.035548791473427654), (1990, 0.005851746598356773), (1991, 0.005790911220135233), (1992, 0.0), (1993, 0.009563295275034914), (1994, 0.026689489694311754), (1995, 0.017595060179734178), (1996, 0.0), (1997, 0.0), (1998, 0.0), (1999, 0.03432593692379022), (2000, 0.007639264794155001), (2001, 0.008156207677547591), (2002, 0.005911872681235165), (2003, 0.0), (2004, 0.0), (2005, 0.0), (2006, 0.015251257235305174), (2007, 0.004709417913416303), (2008, 0.04412108087823559), (2009, 0.0), (2010, 0.0), (2011, 0.0), (2012, 0.041768072918502444), (2013, 0.004605806169803556), (2014, 0.0), (2015, 0.020615233794914953), (2016, 0.004173845666878714), (2017, 0.01048908456818081), (2018, 0.0), (2019, 0.009665196340530565), (2020, 0.0), (2021, 0.0), (2022, 0.005861994557671128), (2023, 0.018139767964279737), (2024, 0.0), (2025, 0.01977521322979819), (2026, 0.003898835290681539), (2027, 0.0), (2028, 0.0), (2029, 0.027526071542407014), (2030, 0.0), (2031, 0.0), (2032, 0.00780022052905471), (2033, 0.012385903031184546), (2034, 0.048207314964051375), (2035, 0.02483757243570603), (2036, 0.0), (2037, 0.0), (2038, 0.028566411147034464), (2039, 0.00684624230345974), (2040, 0.02752739911416442), (2041, 0.0), (2042, 0.02378153230052419), (2043, 0.04582880411128444), (2044, 0.0), (2045, 0.0), (2046, 0.005753216920724267), (2047, 0.006482981674756955), (2048, 0.0), (2049, 0.05171971609034261), (2050, 0.005354848686725293), (2051, 0.0), (2052, 0.02470918391575555), (2053, 0.057709138532660055), (2054, 0.005246065630438101), (2055, 0.006780542943820945), (2056, 0.0), (2057, 0.01081490837620467), (2058, 0.0), (2059, 0.0), (2060, 0.09746246263620423), (2061, 0.007447174506062889), (2062, 0.016706716680842226), (2063, 0.0), (2064, 0.0), (2065, 0.0), (2066, 0.004825749440299474), (2067, 0.0), (2068, 0.029064147233131624), (2069, 0.015887328072756016), (2070, 0.0), (2071, 0.0), (2072, 0.0), (2073, 0.0), (2074, 0.005275386320800969), (2075, 0.00551813908629938), (2076, 0.0), (2077, 0.021801189732292222), (2078, 0.0), (2079, 0.0), (2080, 0.0), (2081, 0.0), (2082, 0.0), (2083, 0.017793770123950708), (2084, 0.07773956482642777), (2085, 0.011934610553356418), (2086, 0.0), (2087, 0.0), (2088, 0.007833136976262615), (2089, 0.01450310293771136), (2090, 0.0), (2091, 0.013455914814189689), (2092, 0.0), (2093, 0.0059107818835608585), (2094, 0.0), (2095, 0.026507696409297704), (2096, 0.016849407553870977), (2097, 0.0), (2098, 0.0), (2099, 0.007097651152676636), (2100, 0.016436982833676894), (2101, 0.006302647245437622), (2102, 0.0), (2103, 0.0), (2104, 0.0), (2105, 0.0070232038807271965), (2106, 0.0), (2107, 0.0), (2108, 0.011375229435156632), (2109, 0.021483245090514334), (2110, 0.0), (2111, 0.00450879656619416), (2112, 0.0), (2113, 0.0), (2114, 0.012535867700073946), (2115, 0.0), (2116, 0.0), (2117, 0.0), (2118, 0.02560411348639777), (2119, 0.0), (2120, 0.0), (2121, 0.0), (2122, 0.006303244031507217), (2123, 0.0), (2124, 0.0), (2125, 0.0), (2126, 0.0), (2127, 0.01071708167161998), (2128, 0.0), (2129, 0.005483400204996921), (2130, 0.0), (2131, 0.021812228492354865), (2132, 0.0), (2133, 0.023692513674490386), (2134, 0.00790102862321113), (2135, 0.0), (2136, 0.06063405301902501), (2137, 0.0), (2138, 0.0), (2139, 0.0), (2140, 0.012292654284435841), (2141, 0.0490171721525125), (2142, 0.052593534817568795), (2143, 0.0), (2144, 0.026577306754981225), (2145, 0.022496205952464064), (2146, 0.0), (2147, 0.07091776078557432), (2148, 0.006060862230945888), (2149, 0.024473738361401765), (2150, 0.0), (2151, 0.012929962649357576), (2152, 0.07724551772388699), (2153, 0.0), (2154, 0.006204759607462914), (2155, 0.012464213028244643), (2156, 0.0059552498025084505), (2157, 0.10224484429143274), (2158, 0.0), (2159, 0.006532155455968681), (2160, 0.0), (2161, 0.005014294840874796), (2162, 0.0), (2163, 0.05317980847059477), (2164, 0.006093123952517879), (2165, 0.021375776573679714), (2166, 0.01132974081729624), (2167, 0.03373803406502734), (2168, 0.0), (2169, 0.07213335446432588), (2170, 0.012974664636184078), (2171, 0.0), (2172, 0.0), (2173, 0.0), (2174, 0.0), (2175, 0.036411916072320194), (2176, 0.0), (2177, 0.0), (2178, 0.0), (2179, 0.0), (2180, 0.0), (2181, 0.011633523284605643), (2182, 0.0), (2183, 0.04369234723421791), (2184, 0.01308928721035581), (2185, 0.010637183429549647), (2186, 0.0), (2187, 0.02523671918977481), (2188, 0.006768764454591285), (2189, 0.021466720644600076), (2190, 0.0), (2191, 0.0), (2192, 0.0), (2193, 0.0), (2194, 0.0051235945753625375), (2195, 0.00516949053099263), (2196, 0.005476234466878084), (2197, 0.007624989227058124), (2198, 0.018177223653427513), (2199, 0.0), (2200, 0.005153770418669944), (2201, 0.09721199893417151), (2202, 0.007811268651869153), (2203, 0.03521687844641429), (2204, 0.0), (2205, 0.006458705310212828), (2206, 0.010386407436767761), (2207, 0.006321120792883762), (2208, 0.0), (2209, 0.004468783878129317), (2210, 0.02698069160039156), (2211, 0.0), (2212, 0.00619128781579488), (2213, 0.0), (2214, 0.007735779144251897), (2215, 0.03527258335933957), (2216, 0.020279867357612138), (2217, 0.0), (2218, 0.04935782251560443), (2219, 0.019808739689053324), (2220, 0.007367812249370368), (2221, 0.00466260457043865), (2222, 0.006870666360390813), (2223, 0.0), (2224, 0.0), (2225, 0.0), (2226, 0.0), (2227, 0.0), (2228, 0.01088453144409029), (2229, 0.0051359330967030116), (2230, 0.07306682013488913), (2231, 0.008371912086687769), (2232, 0.0), (2233, 0.0), (2234, 0.0), (2235, 0.0), (2236, 0.0), (2237, 0.02276248589899032), (2238, 0.006945041384677555), (2239, 0.02946411338440421), (2240, 0.0), (2241, 0.0), (2242, 0.028385738968839624), (2243, 0.0), (2244, 0.0054686118113185965), (2245, 0.0), (2246, 0.0), (2247, 0.021320244354942924), (2248, 0.0), (2249, 0.007594228426125208), (2250, 0.005932347520061509), (2251, 0.0), (2252, 0.0), (2253, 0.004999673549738002), (2254, 0.0), (2255, 0.036865433104840445), (2256, 0.0), (2257, 0.0), (2258, 0.010061352754772452), (2259, 0.0), (2260, 0.06691738042516346), (2261, 0.02199885433857481), (2262, 0.01677665839193801), (2263, 0.009854335606930385), (2264, 0.026172750291802008), (2265, 0.0), (2266, 0.012779954074602083), (2267, 0.020836078740189605), (2268, 0.006543517920021663), (2269, 0.0), (2270, 0.0), (2271, 0.0), (2272, 0.0), (2273, 0.0), (2274, 0.01170379261235965), (2275, 0.0), (2276, 0.0), (2277, 0.005555892981484108), (2278, 0.02396181079116927), (2279, 0.0), (2280, 0.0), (2281, 0.0), (2282, 0.006901138730194808), (2283, 0.0062092566957683325), (2284, 0.00763859458567307), (2285, 0.0), (2286, 0.0), (2287, 0.0), (2288, 0.005425571836525672), (2289, 0.0), (2290, 0.0), (2291, 0.0048657562048317745), (2292, 0.0), (2293, 0.005618078527186767), (2294, 0.009311653403552823), (2295, 0.005780724612361897), (2296, 0.005564375599132032), (2297, 0.0), (2298, 0.011978292578688111), (2299, 0.0), (2300, 0.006105169650438188), (2301, 0.0), (2302, 0.0), (2303, 0.015695895960791642), (2304, 0.0), (2305, 0.011195160369905388), (2306, 0.010659523956071702), (2307, 0.03461057065417196), (2308, 0.0), (2309, 0.0062753636784428374), (2310, 0.0763276743948667), (2311, 0.010896090582567847), (2312, 0.035937116444662576), (2313, 0.012291642692434254), (2314, 0.00986856689651755), (2315, 0.0), (2316, 0.027127413800867344), (2317, 0.0186898752518413), (2318, 0.0), (2319, 0.0), (2320, 0.00597566736779431), (2321, 0.0), (2322, 0.0), (2323, 0.0), (2324, 0.0), (2325, 0.0), (2326, 0.0), (2327, 0.0051677493142647584), (2328, 0.0), (2329, 0.007808161314031066), (2330, 0.007860349104361316), (2331, 0.0), (2332, 0.0), (2333, 0.01126329128894745), (2334, 0.006943258291528329), (2335, 0.0), (2336, 0.015056494258847513), (2337, 0.0), (2338, 0.021176881732866693), (2339, 0.0), (2340, 0.023291597703211063), (2341, 0.0), (2342, 0.0), (2343, 0.024059265386983317), (2344, 0.0), (2345, 0.0), (2346, 0.018395783508875226), (2347, 0.0), (2348, 0.041244347768433706), (2349, 0.018994194178821904), (2350, 0.0), (2351, 0.0), (2352, 0.02908659048549666), (2353, 0.0), (2354, 0.06947759122058923), (2355, 0.0), (2356, 0.00869835304552678), (2357, 0.009619014720322144), (2358, 0.006577703021935202), (2359, 0.007166529300590667), (2360, 0.006903674821397113), (2361, 0.13913552967690979), (2362, 0.0), (2363, 0.0), (2364, 0.007738457322807317), (2365, 0.0), (2366, 0.009080710255384816), (2367, 0.014413949906044561), (2368, 0.03303776564118301), (2369, 0.09964302137705913), (2370, 0.026673844430042167), (2371, 0.013286472713615997), (2372, 0.005288037825440174), (2373, 0.029578700909803527), (2374, 0.0), (2375, 0.08532222036313383), (2376, 0.0), (2377, 0.0), (2378, 0.0), (2379, 0.0), (2380, 0.005783395995685361), (2381, 0.0), (2382, 0.010958185143347008), (2383, 0.006983238853662524), (2384, 0.0), (2385, 0.0), (2386, 0.005427240857143245), (2387, 0.0065866166781590385), (2388, 0.005391888891150587), (2389, 0.00532772532771771), (2390, 0.01694303038868506), (2391, 0.0), (2392, 0.0), (2393, 0.0), (2394, 0.0061674456841516925), (2395, 0.0), (2396, 0.0), (2397, 0.0), (2398, 0.005490629566423109), (2399, 0.006583049349966289), (2400, 0.00570805247149001), (2401, 0.014214942559838094), (2402, 0.009668222748421437), (2403, 0.030880588885095542), (2404, 0.006770813979525196), (2405, 0.0), (2406, 0.012159831987719206), (2407, 0.01700151073195737), (2408, 0.007044768790612775), (2409, 0.0), (2410, 0.0), (2411, 0.0), (2412, 0.005793992105839099), (2413, 0.0), (2414, 0.0), (2415, 0.0), (2416, 0.011930587863036003), (2417, 0.0), (2418, 0.01922655411182338), (2419, 0.0), (2420, 0.0), (2421, 0.0), (2422, 0.0), (2423, 0.0), (2424, 0.06473968030876269), (2425, 0.0073132155584368485), (2426, 0.0), (2427, 0.03762233014450173), (2428, 0.0), (2429, 0.01683627134165302), (2430, 0.0), (2431, 0.0), (2432, 0.06418931283421347), (2433, 0.03363735222690532), (2434, 0.02883022667867485), (2435, 0.005001067954776943), (2436, 0.0), (2437, 0.0), (2438, 0.011796847222959374), (2439, 0.01127985584619232), (2440, 0.0), (2441, 0.0), (2442, 0.00595547234124551), (2443, 0.0), (2444, 0.006063803495741694), (2445, 0.0), (2446, 0.0), (2447, 0.0), (2448, 0.031716721101156524), (2449, 0.0), (2450, 0.023725067922687013), (2451, 0.0), (2452, 0.0), (2453, 0.0), (2454, 0.0), (2455, 0.0), (2456, 0.006395740640793963), (2457, 0.007326019782184808), (2458, 0.011656560922896565), (2459, 0.017287983959551816), (2460, 0.0), (2461, 0.017970789301360007), (2462, 0.0), (2463, 0.0), (2464, 0.011687521994673974), (2465, 0.00974410834430646), (2466, 0.006218041032401643), (2467, 0.0), (2468, 0.0), (2469, 0.02369346498825353), (2470, 0.03323778425796651), (2471, 0.0057000615696963545), (2472, 0.0), (2473, 0.007424763283802454), (2474, 0.004880244321760989), (2475, 0.0), (2476, 0.062786613735006), (2477, 0.0), (2478, 0.006845301272294694), (2479, 0.0), (2480, 0.0), (2481, 0.0), (2482, 0.0), (2483, 0.0), (2484, 0.0), (2485, 0.0), (2486, 0.005055438988445359), (2487, 0.007685105361726075), (2488, 0.0), (2489, 0.0313656292783145), (2490, 0.017095531693368884), (2491, 0.07526499521430764), (2492, 0.0055748788791440095), (2493, 0.012691432719456002), (2494, 0.01480711958619611), (2495, 0.012390892533730713), (2496, 0.027170161030429844), (2497, 0.0), (2498, 0.0317970644113924), (2499, 0.010928077132508335), (2500, 0.0), (2501, 0.007233299379082136), (2502, 0.0), (2503, 0.0), (2504, 0.0), (2505, 0.008197370121308794), (2506, 0.03275706101852562), (2507, 0.008388251240753495), (2508, 0.009921838213800806), (2509, 0.012195945117119762), (2510, 0.006354226487114832), (2511, 0.0), (2512, 0.0), (2513, 0.01597644748000617), (2514, 0.09235530623029498), (2515, 0.010301213988808199), (2516, 0.021428005030872523), (2517, 0.06796683055888691), (2518, 0.0), (2519, 0.0), (2520, 0.0), (2521, 0.028235236691604805), (2522, 0.0), (2523, 0.008786971722930567), (2524, 0.0), (2525, 0.007198370276012944), (2526, 0.0), (2527, 0.0), (2528, 0.0), (2529, 0.10580630139750402), (2530, 0.01115125499013428), (2531, 0.0), (2532, 0.08870039393973322), (2533, 0.011891300337531559), (2534, 0.007251113366591382), (2535, 0.0), (2536, 0.014217017510140173), (2537, 0.0), (2538, 0.0), (2539, 0.0), (2540, 0.01098338586163572), (2541, 0.0), (2542, 0.005770224010212565), (2543, 0.019206090946952734), (2544, 0.0), (2545, 0.013205209719117008), (2546, 0.0), (2547, 0.010549363177559268), (2548, 0.0), (2549, 0.025815738576664457), (2550, 0.0), (2551, 0.0), (2552, 0.0), (2553, 0.0), (2554, 0.0), (2555, 0.0), (2556, 0.009283777835113301), (2557, 0.0), (2558, 0.005361866538156605), (2559, 0.0), (2560, 0.0), (2561, 0.05040396789069979), (2562, 0.0), (2563, 0.025659733953209127), (2564, 0.005131767064779281), (2565, 0.013133252359265043), (2566, 0.0), (2567, 0.0), (2568, 0.011155306006272172), (2569, 0.0), (2570, 0.0), (2571, 0.02644238224252499), (2572, 0.013734957794925074), (2573, 0.005064800293905769), (2574, 0.0), (2575, 0.0), (2576, 0.0), (2577, 0.01289210543386729), (2578, 0.04824347863302857), (2579, 0.005214129978600449), (2580, 0.0), (2581, 0.01134509452421109), (2582, 0.0), (2583, 0.013942282724885813), (2584, 0.007195607395037689), (2585, 0.0), (2586, 0.053399368955730955), (2587, 0.012483801795857726), (2588, 0.0834816433117842), (2589, 0.006742621589801326), (2590, 0.0), (2591, 0.0), (2592, 0.09458996594241369), (2593, 0.0), (2594, 0.0), (2595, 0.0), (2596, 0.006427587651006496), (2597, 0.014479328281849604), (2598, 0.0115826237441576), (2599, 0.0), (2600, 0.0), (2601, 0.0), (2602, 0.0048202470534730235), (2603, 0.0), (2604, 0.0), (2605, 0.07614506206950439), (2606, 0.011631777119387647), (2607, 0.0), (2608, 0.0), (2609, 0.0052504882207298105), (2610, 0.0), (2611, 0.05588383216859907), (2612, 0.0), (2613, 0.0), (2614, 0.013734762294488008), (2615, 0.0), (2616, 0.0), (2617, 0.014492090925320436), (2618, 0.0), (2619, 0.0), (2620, 0.0), (2621, 0.0), (2622, 0.0), (2623, 0.0), (2624, 0.0), (2625, 0.005681381571397895), (2626, 0.006226674120312371), (2627, 0.028674997307333538), (2628, 0.00949255085239125), (2629, 0.0), (2630, 0.0), (2631, 0.0), (2632, 0.0), (2633, 0.01693453877245129), (2634, 0.0), (2635, 0.0), (2636, 0.0), (2637, 0.008433791989798314), (2638, 0.0), (2639, 0.0047849496477520145), (2640, 0.007724261791692649), (2641, 0.00482868123093799), (2642, 0.0), (2643, 0.0), (2644, 0.005581194339777631), (2645, 0.005595047181008936), (2646, 0.006201411368238194), (2647, 0.0), (2648, 0.01197571502616171), (2649, 0.013654289557394178), (2650, 0.01862180316977272), (2651, 0.010554338925188481), (2652, 0.05010106263001876), (2653, 0.008023436838491209), (2654, 0.0), (2655, 0.01847131997702554), (2656, 0.0), (2657, 0.004557675552651332), (2658, 0.0), (2659, 0.015808033305800284), (2660, 0.0), (2661, 0.0), (2662, 0.0), (2663, 0.0), (2664, 0.0), (2665, 0.06636061180090867), (2666, 0.0), (2667, 0.006233945448343314), (2668, 0.0), (2669, 0.0), (2670, 0.0), (2671, 0.0069028786024956205), (2672, 0.0), (2673, 0.0), (2674, 0.023071231704716342), (2675, 0.005345622660049026), (2676, 0.0), (2677, 0.0), (2678, 0.01633220803844976), (2679, 0.0), (2680, 0.0), (2681, 0.004869273973866521), (2682, 0.06388676616216672), (2683, 0.005489548085823742), (2684, 0.008062747733260494), (2685, 0.029701708702556028), (2686, 0.012099103470225685), (2687, 0.0), (2688, 0.0), (2689, 0.0), (2690, 0.0), (2691, 0.06718044876659152), (2692, 0.0), (2693, 0.0), (2694, 0.0), (2695, 0.0), (2696, 0.011126796360691334), (2697, 0.0), (2698, 0.0), (2699, 0.0), (2700, 0.028956087489961226), (2701, 0.0), (2702, 0.010842318908330225), (2703, 0.006474757522006201), (2704, 0.004615173371484324), (2705, 0.0), (2706, 0.010585891777433253), (2707, 0.0), (2708, 0.02568150757173646), (2709, 0.0), (2710, 0.0), (2711, 0.0), (2712, 0.005513905511839687), (2713, 0.0), (2714, 0.0), (2715, 0.0), (2716, 0.0), (2717, 0.07507776964682648), (2718, 0.0), (2719, 0.0), (2720, 0.007578492807029632), (2721, 0.06190980726243452), (2722, 0.02148777454708989), (2723, 0.0), (2724, 0.0), (2725, 0.0), (2726, 0.006074136181955289), (2727, 0.0), (2728, 0.007181713677514773), (2729, 0.0), (2730, 0.00627269100461602), (2731, 0.0), (2732, 0.0), (2733, 0.0), (2734, 0.0), (2735, 0.026513424372837144), (2736, 0.004995476939149508), (2737, 0.007143547510173058), (2738, 0.0), (2739, 0.0), (2740, 0.0), (2741, 0.0), (2742, 0.0), (2743, 0.0), (2744, 0.0), (2745, 0.0), (2746, 0.0), (2747, 0.023164974668895243), (2748, 0.0), (2749, 0.028346517866982335), (2750, 0.017591579450959276), (2751, 0.0), (2752, 0.0), (2753, 0.011604263510487173), (2754, 0.0), (2755, 0.0), (2756, 0.07473178635853485), (2757, 0.015292897106573486), (2758, 0.0), (2759, 0.0), (2760, 0.0), (2761, 0.0), (2762, 0.018968269636607596), (2763, 0.09599045327407792), (2764, 0.0), (2765, 0.0), (2766, 0.0), (2767, 0.0), (2768, 0.0), (2769, 0.08902978513302606), (2770, 0.0), (2771, 0.0), (2772, 0.0), (2773, 0.006295843880477079), (2774, 0.0), (2775, 0.005791185397383707), (2776, 0.0), (2777, 0.014710265862148608), (2778, 0.0), (2779, 0.0), (2780, 0.006328970537927715), (2781, 0.005320710509208758), (2782, 0.004440706144000261), (2783, 0.0), (2784, 0.003982957383353322), (2785, 0.00564201655392427), (2786, 0.0), (2787, 0.0), (2788, 0.022085962360678286), (2789, 0.0), (2790, 0.03158476524970283), (2791, 0.007340368278600117), (2792, 0.011761977100076707), (2793, 0.0), (2794, 0.008942049319731147), (2795, 0.006575984234937922), (2796, 0.0), (2797, 0.020003346692375277), (2798, 0.0), (2799, 0.0), (2800, 0.007280318454523513), (2801, 0.06631817035087821), (2802, 0.0), (2803, 0.011306918971899393), (2804, 0.0), (2805, 0.02673526456791996), (2806, 0.004394572013233386), (2807, 0.0), (2808, 0.0), (2809, 0.0), (2810, 0.007607678526345687), (2811, 0.0), (2812, 0.005609320563044304), (2813, 0.0), (2814, 0.0), (2815, 0.028813977915163973), (2816, 0.0), (2817, 0.0), (2818, 0.0), (2819, 0.004763683655095573), (2820, 0.021284197287611252), (2821, 0.0), (2822, 0.006337877906092548), (2823, 0.0), (2824, 0.00815546604625872), (2825, 0.0), (2826, 0.010698291620248828), (2827, 0.005613060001812479), (2828, 0.0), (2829, 0.0), (2830, 0.0), (2831, 0.0), (2832, 0.0), (2833, 0.0), (2834, 0.0), (2835, 0.011884596060961398), (2836, 0.007291614246819301), (2837, 0.0), (2838, 0.020278811159902085), (2839, 0.0), (2840, 0.0), (2841, 0.0), (2842, 0.0), (2843, 0.0), (2844, 0.0), (2845, 0.010709819047006153), (2846, 0.018641691137802147), (2847, 0.0), (2848, 0.0), (2849, 0.0), (2850, 0.0), (2851, 0.013492691473095914), (2852, 0.0), (2853, 0.00470391970913843), (2854, 0.0), (2855, 0.0), (2856, 0.012540974198780148), (2857, 0.008627649975082845), (2858, 0.0), (2859, 0.0), (2860, 0.004808007744994124), (2861, 0.0), (2862, 0.022789681983925798), (2863, 0.005429471958069747), (2864, 0.030509374266652938), (2865, 0.018548494422893025), (2866, 0.0), (2867, 0.007576404376743857), (2868, 0.004421853761007189), (2869, 0.0), (2870, 0.0), (2871, 0.0073456308532495445), (2872, 0.008342017054581737), (2873, 0.0), (2874, 0.0), (2875, 0.02289203220982554), (2876, 0.00849362432307156), (2877, 0.0), (2878, 0.025151442321727193), (2879, 0.04405309138163817), (2880, 0.007644499817412434), (2881, 0.0), (2882, 0.0), (2883, 0.0), (2884, 0.009130020667013667), (2885, 0.03884339628119726), (2886, 0.02637017089301585), (2887, 0.0), (2888, 0.0), (2889, 0.020283339909834986), (2890, 0.013472395832409603), (2891, 0.0), (2892, 0.03022621767834221), (2893, 0.0), (2894, 0.0), (2895, 0.0), (2896, 0.0), (2897, 0.0), (2898, 0.0), (2899, 0.006903978280940673), (2900, 0.0), (2901, 0.0), (2902, 0.0), (2903, 0.0), (2904, 0.0), (2905, 0.0), (2906, 0.0), (2907, 0.0), (2908, 0.0), (2909, 0.012530645020032587), (2910, 0.0), (2911, 0.013872131519331674), (2912, 0.0049704497176606965), (2913, 0.0), (2914, 0.028131271582024497), (2915, 0.0), (2916, 0.008123994318290336), (2917, 0.0), (2918, 0.005565879461612246), (2919, 0.0), (2920, 0.0), (2921, 0.016547413158915794), (2922, 0.03247317169649758), (2923, 0.0), (2924, 0.0), (2925, 0.0), (2926, 0.0), (2927, 0.00703564148892446), (2928, 0.0), (2929, 0.0), (2930, 0.0), (2931, 0.006947057513689998), (2932, 0.0), (2933, 0.007746483120250363), (2934, 0.01039962081568643), (2935, 0.0), (2936, 0.0), (2937, 0.0), (2938, 0.0), (2939, 0.0), (2940, 0.006882262846505194), (2941, 0.029527309731006514), (2942, 0.0), (2943, 0.0), (2944, 0.07428663381849235), (2945, 0.0), (2946, 0.0), (2947, 0.0), (2948, 0.0), (2949, 0.0), (2950, 0.0), (2951, 0.0), (2952, 0.0), (2953, 0.0), (2954, 0.0), (2955, 0.0143306554021137), (2956, 0.0), (2957, 0.02264264124439921), (2958, 0.0), (2959, 0.005517732128872038), (2960, 0.006797919673053277), (2961, 0.007206005470407654), (2962, 0.0), (2963, 0.0), (2964, 0.0), (2965, 0.023904319418353314), (2966, 0.007114723674123436), (2967, 0.009697207455663128), (2968, 0.0), (2969, 0.0), (2970, 0.0), (2971, 0.00628921470183984), (2972, 0.006748685051712669), (2973, 0.00859889381813739), (2974, 0.006874459073851101), (2975, 0.0), (2976, 0.0), (2977, 0.0), (2978, 0.012257902970029003), (2979, 0.07601426176155027), (2980, 0.09682299898140825), (2981, 0.0), (2982, 0.0), (2983, 0.0), (2984, 0.0), (2985, 0.0), (2986, 0.004572154296491184), (2987, 0.0), (2988, 0.0), (2989, 0.052553294334087224), (2990, 0.0), (2991, 0.0), (2992, 0.0), (2993, 0.0), (2994, 0.0), (2995, 0.005550487444715093), (2996, 0.016574391246545663), (2997, 0.011983587544598598), (2998, 0.03137886997021439), (2999, 0.0), (3000, 0.0), (3001, 0.004671459082643415), (3002, 0.0), (3003, 0.0), (3004, 0.011567524629257675), (3005, 0.0), (3006, 0.021820057083839585), (3007, 0.02072266209241574), (3008, 0.0045608059064480315), (3009, 0.0), (3010, 0.023226285259170105), (3011, 0.0), (3012, 0.01134734899613609), (3013, 0.010425526634804396), (3014, 0.050255716846066924), (3015, 0.010486756972692956), (3016, 0.0), (3017, 0.0), (3018, 0.006125969491009037), (3019, 0.0), (3020, 0.03462357113193002), (3021, 0.0063213033393216475), (3022, 0.0), (3023, 0.0), (3024, 0.0), (3025, 0.0), (3026, 0.0), (3027, 0.0), (3028, 0.0), (3029, 0.05682723677306432), (3030, 0.005279857540590879), (3031, 0.014218844404598056), (3032, 0.025939173000686773), (3033, 0.016738081681565625), (3034, 0.021624943398995462), (3035, 0.011712815845140221), (3036, 0.0), (3037, 0.016579608276092436), (3038, 0.0), (3039, 0.0), (3040, 0.00567436261199389), (3041, 0.0), (3042, 0.0), (3043, 0.0), (3044, 0.0753710732270019), (3045, 0.0), (3046, 0.0950001738953069), (3047, 0.0), (3048, 0.0696332197601563), (3049, 0.0), (3050, 0.0), (3051, 0.006478248528859809), (3052, 0.0), (3053, 0.0), (3054, 0.037995237625875256), (3055, 0.007705024566130459), (3056, 0.014674734898582871), (3057, 0.0), (3058, 0.07470278655909009), (3059, 0.00737764845057583), (3060, 0.0), (3061, 0.0), (3062, 0.005548121962280689), (3063, 0.0), (3064, 0.05370150807828597), (3065, 0.0), (3066, 0.0), (3067, 0.014713556780893457), (3068, 0.00682063936472078), (3069, 0.0), (3070, 0.0), (3071, 0.0), (3072, 0.0), (3073, 0.08211656173098972), (3074, 0.005205071892187633), (3075, 0.0), (3076, 0.0), (3077, 0.0954591027492295), (3078, 0.0), (3079, 0.0), (3080, 0.0), (3081, 0.028370821581560398), (3082, 0.006854958690591009), (3083, 0.0), (3084, 0.0), (3085, 0.0), (3086, 0.04343143609134975), (3087, 0.008353233891061667), (3088, 0.0), (3089, 0.005956607638966258), (3090, 0.0), (3091, 0.0), (3092, 0.0), (3093, 0.0), (3094, 0.0), (3095, 0.0), (3096, 0.0), (3097, 0.018392418978487448), (3098, 0.036271798526522715), (3099, 0.00458750542886975), (3100, 0.0), (3101, 0.0), (3102, 0.0), (3103, 0.0), (3104, 0.0), (3105, 0.0), (3106, 0.03762266403414781), (3107, 0.0), (3108, 0.0), (3109, 0.0), (3110, 0.0139858955431661), (3111, 0.0), (3112, 0.0), (3113, 0.0), (3114, 0.0), (3115, 0.0), (3116, 0.0), (3117, 0.0), (3118, 0.0), (3119, 0.0), (3120, 0.0), (3121, 0.0), (3122, 0.0), (3123, 0.006837956912586408), (3124, 0.05512338561882202), (3125, 0.0), (3126, 0.011920401824567918), (3127, 0.0), (3128, 0.006300018794761725), (3129, 0.0), (3130, 0.08211659256889837), (3131, 0.0), (3132, 0.0), (3133, 0.004558848577650612), (3134, 0.0), (3135, 0.0), (3136, 0.01165383542390512), (3137, 0.0), (3138, 0.005029549085855786), (3139, 0.0), (3140, 0.0), (3141, 0.0), (3142, 0.005851849512281938), (3143, 0.004426877337130574), (3144, 0.006203433781585316), (3145, 0.0), (3146, 0.0), (3147, 0.0), (3148, 0.02484927477677369), (3149, 0.0), (3150, 0.0), (3151, 0.024594691185228276), (3152, 0.0), (3153, 0.017913032022043182), (3154, 0.006386023848349835), (3155, 0.09513620988808802), (3156, 0.0), (3157, 0.0), (3158, 0.005107370883779803), (3159, 0.006973514827281052), (3160, 0.0), (3161, 0.0), (3162, 0.0045369169267933255), (3163, 0.0), (3164, 0.0), (3165, 0.0049244204924972475), (3166, 0.0), (3167, 0.0), (3168, 0.0), (3169, 0.010295466597620527), (3170, 0.006646677688195384), (3171, 0.0), (3172, 0.02241919687014033), (3173, 0.0), (3174, 0.0), (3175, 0.0), (3176, 0.029640945441856005), (3177, 0.08122618721491125), (3178, 0.0), (3179, 0.0), (3180, 0.019151862953971466), (3181, 0.0), (3182, 0.0), (3183, 0.012552388986601094), (3184, 0.005391668902885368), (3185, 0.0), (3186, 0.0), (3187, 0.0), (3188, 0.09241427013458639), (3189, 0.0), (3190, 0.0), (3191, 0.0), (3192, 0.0), (3193, 0.0), (3194, 0.016228698016196124), (3195, 0.0071210174049770635), (3196, 0.0), (3197, 0.0), (3198, 0.010725799613736478), (3199, 0.008759183863607772), (3200, 0.0), (3201, 0.0), (3202, 0.015568171432946531), (3203, 0.008013461639576908), (3204, 0.0), (3205, 0.005671572665414894), (3206, 0.0), (3207, 0.0), (3208, 0.030517178975058), (3209, 0.004929526365544882), (3210, 0.0), (3211, 0.0), (3212, 0.0), (3213, 0.0), (3214, 0.010138989760780391), (3215, 0.0), (3216, 0.0), (3217, 0.0), (3218, 0.0), (3219, 0.0), (3220, 0.0), (3221, 0.005117900677466952), (3222, 0.0), (3223, 0.0), (3224, 0.007107678000993387), (3225, 0.0), (3226, 0.0), (3227, 0.006098442990758207), (3228, 0.0), (3229, 0.011750607106531414), (3230, 0.0), (3231, 0.004581737811651129), (3232, 0.0), (3233, 0.01162687084890407), (3234, 0.0), (3235, 0.0), (3236, 0.0), (3237, 0.0111784842729045), (3238, 0.0073322783894954995), (3239, 0.020983353626129412), (3240, 0.0), (3241, 0.0), (3242, 0.0), (3243, 0.023042168549379786), (3244, 0.0), (3245, 0.0), (3246, 0.0), (3247, 0.0), (3248, 0.0), (3249, 0.0), (3250, 0.03139064669748907), (3251, 0.013873293458296207), (3252, 0.010603294281900657), (3253, 0.0), (3254, 0.0), (3255, 0.0), (3256, 0.0), (3257, 0.07411693448367243), (3258, 0.0), (3259, 0.0050391642425447495), (3260, 0.005660474325905), (3261, 0.013300287986595554), (3262, 0.07051681521112682), (3263, 0.006240467957684694), (3264, 0.0), (3265, 0.0704551580401387), (3266, 0.0063957692027523895), (3267, 0.0), (3268, 0.0), (3269, 0.0), (3270, 0.019224744075306433), (3271, 0.0), (3272, 0.0), (3273, 0.0063634829612580985), (3274, 0.010937812495067752), (3275, 0.0), (3276, 0.00673620019733604), (3277, 0.009850086666831731), (3278, 0.0), (3279, 0.011930083148878046), (3280, 0.0), (3281, 0.010395530672996535), (3282, 0.0), (3283, 0.0), (3284, 0.006787379429660174), (3285, 0.0), (3286, 0.0298537872771041), (3287, 0.02160083979435615), (3288, 0.0), (3289, 0.0), (3290, 0.005555612639792448), (3291, 0.006761556014527866), (3292, 0.0), (3293, 0.017300656258901793), (3294, 0.0), (3295, 0.0), (3296, 0.0), (3297, 0.012896687710236256), (3298, 0.0), (3299, 0.020837296246129833), (3300, 0.0), (3301, 0.0), (3302, 0.050627026704726394), (3303, 0.0), (3304, 0.022747561810862973), (3305, 0.0050637327452631685), (3306, 0.006398352019954038), (3307, 0.006224581616394821), (3308, 0.0), (3309, 0.004968642966543343), (3310, 0.0), (3311, 0.01976679839179266), (3312, 0.0), (3313, 0.0069863990627952195), (3314, 0.0), (3315, 0.0), (3316, 0.005885426657878198), (3317, 0.0), (3318, 0.005671345599122768), (3319, 0.022412180400665793), (3320, 0.0), (3321, 0.0), (3322, 0.007304725639331064), (3323, 0.0), (3324, 0.0), (3325, 0.046392471191124024), (3326, 0.006136648997327985), (3327, 0.0), (3328, 0.0), (3329, 0.020433323163729398), (3330, 0.0), (3331, 0.0), (3332, 0.00623444447663081), (3333, 0.0), (3334, 0.0), (3335, 0.0060011178531250865), (3336, 0.005556396727786445), (3337, 0.03900783485666706), (3338, 0.0), (3339, 0.0), (3340, 0.07539439768657055), (3341, 0.0), (3342, 0.027112619908571643), (3343, 0.029206432461103785), (3344, 0.0), (3345, 0.007215237812429244), (3346, 0.0), (3347, 0.020515695139026197), (3348, 0.0), (3349, 0.005252851504786034), (3350, 0.004735607106106943), (3351, 0.035494667199193516), (3352, 0.013759303543428506), (3353, 0.0), (3354, 0.014193144557526582), (3355, 0.022285836632856746), (3356, 0.0), (3357, 0.0), (3358, 0.006195027238228676), (3359, 0.007913843790561923), (3360, 0.0), (3361, 0.006089055162825151), (3362, 0.0), (3363, 0.0), (3364, 0.011799250477687685), (3365, 0.0), (3366, 0.04720444672740182), (3367, 0.08159576590899013), (3368, 0.0), (3369, 0.0), (3370, 0.004722744385412214), (3371, 0.0), (3372, 0.005407393165558321), (3373, 0.007068667798440207), (3374, 0.006853384950867702), (3375, 0.0), (3376, 0.007857434189675142), (3377, 0.03161334677560161), (3378, 0.07455638065075529), (3379, 0.0), (3380, 0.0), (3381, 0.01145690810269406), (3382, 0.005514575915738914), (3383, 0.0), (3384, 0.0), (3385, 0.006022798202495908), (3386, 0.009060119122657225), (3387, 0.0), (3388, 0.0), (3389, 0.0), (3390, 0.06576171117127536), (3391, 0.0), (3392, 0.0), (3393, 0.0), (3394, 0.008186081978890964), (3395, 0.0), (3396, 0.0), (3397, 0.0), (3398, 0.0), (3399, 0.06508832799825637), (3400, 0.0), (3401, 0.0), (3402, 0.010216273050436795), (3403, 0.0), (3404, 0.021271428812845394), (3405, 0.0), (3406, 0.031011606284449225), (3407, 0.0), (3408, 0.0), (3409, 0.0), (3410, 0.0), (3411, 0.0), (3412, 0.006188705276245659), (3413, 0.0), (3414, 0.006293394453988636), (3415, 0.0), (3416, 0.005045622071284478), (3417, 0.009882055553340697), (3418, 0.0), (3419, 0.0), (3420, 0.0), (3421, 0.0), (3422, 0.0), (3423, 0.0), (3424, 0.011244150774789819), (3425, 0.0), (3426, 0.0), (3427, 0.01486505320972046), (3428, 0.0), (3429, 0.027746350997695603), (3430, 0.01230815796537046), (3431, 0.0), (3432, 0.026528895928188023), (3433, 0.0), (3434, 0.0), (3435, 0.0), (3436, 0.0075477238767060195), (3437, 0.007517397978699043), (3438, 0.03563464091974633), (3439, 0.018587086884527114), (3440, 0.022482595832444267), (3441, 0.0), (3442, 0.01076423492397617), (3443, 0.0), (3444, 0.0), (3445, 0.08683626031979824), (3446, 0.0), (3447, 0.0072609068626381884), (3448, 0.01103198330404784), (3449, 0.0), (3450, 0.0705683613184927), (3451, 0.0), (3452, 0.0), (3453, 0.0), (3454, 0.0), (3455, 0.0), (3456, 0.0), (3457, 0.0), (3458, 0.0), (3459, 0.0), (3460, 0.004504292398190436), (3461, 0.0), (3462, 0.0), (3463, 0.005737590362278229), (3464, 0.0), (3465, 0.022675781389525192), (3466, 0.019518343670274656), (3467, 0.0), (3468, 0.012461778915159306), (3469, 0.0), (3470, 0.0), (3471, 0.0), (3472, 0.0074348607254303214), (3473, 0.0), (3474, 0.0), (3475, 0.0), (3476, 0.0), (3477, 0.004826124746561058), (3478, 0.0), (3479, 0.08695987760573394), (3480, 0.0), (3481, 0.015788177004755762), (3482, 0.0), (3483, 0.0), (3484, 0.0), (3485, 0.006280209626614116), (3486, 0.0), (3487, 0.0), (3488, 0.0), (3489, 0.0), (3490, 0.01647731733079549), (3491, 0.009323778520376422), (3492, 0.0), (3493, 0.014988296982998518), (3494, 0.01702146848290038), (3495, 0.027391028059059293), (3496, 0.0), (3497, 0.0), (3498, 0.0), (3499, 0.0), (3500, 0.026497020205273513), (3501, 0.01464441185709525), (3502, 0.0), (3503, 0.0), (3504, 0.0), (3505, 0.004667455126461072), (3506, 0.0), (3507, 0.0), (3508, 0.007023179844703202), (3509, 0.00683367267728173), (3510, 0.0), (3511, 0.009952386916946476), (3512, 0.0), (3513, 0.0), (3514, 0.0), (3515, 0.0), (3516, 0.011629636806656634), (3517, 0.0), (3518, 0.005160964320501626), (3519, 0.0), (3520, 0.0), (3521, 0.015524632983146502), (3522, 0.006220023471510361), (3523, 0.005950339700045791), (3524, 0.0), (3525, 0.0), (3526, 0.0), (3527, 0.005372759540819016), (3528, 0.0), (3529, 0.021202283258391137), (3530, 0.0), (3531, 0.0), (3532, 0.0), (3533, 0.008372885812749122), (3534, 0.0), (3535, 0.0), (3536, 0.0), (3537, 0.012514366983336389), (3538, 0.006023274859739617), (3539, 0.012126202117839543), (3540, 0.0), (3541, 0.0), (3542, 0.0), (3543, 0.005995214009022385), (3544, 0.0), (3545, 0.0058081795191066545), (3546, 0.0), (3547, 0.0), (3548, 0.033635557290576115), (3549, 0.0), (3550, 0.0), (3551, 0.0), (3552, 0.019104350634810585), (3553, 0.0041908383512229905), (3554, 0.012458641170964097), (3555, 0.0), (3556, 0.0), (3557, 0.0), (3558, 0.0077661818219391865), (3559, 0.0), (3560, 0.006414080078181759), (3561, 0.0), (3562, 0.0), (3563, 0.0), (3564, 0.0), (3565, 0.0), (3566, 0.019084569319871122), (3567, 0.00743541450223041), (3568, 0.018775926018426557), (3569, 0.00818219003109959), (3570, 0.0), (3571, 0.0), (3572, 0.0), (3573, 0.0), (3574, 0.010735533599959823), (3575, 0.16167041055131562), (3576, 0.006096931101015597), (3577, 0.03427168561917199), (3578, 0.0), (3579, 0.010680076175937943), (3580, 0.0), (3581, 0.0), (3582, 0.007265703709121536), (3583, 0.0), (3584, 0.022391550929587823), (3585, 0.0), (3586, 0.0), (3587, 0.0), (3588, 0.0), (3589, 0.0), (3590, 0.013638224673704529), (3591, 0.012261053219191263), (3592, 0.0), (3593, 0.0), (3594, 0.040327001762976926), (3595, 0.0), (3596, 0.002575746635736442), (3597, 0.021347031641827302), (3598, 0.0), (3599, 0.006665915031024131), (3600, 0.0), (3601, 0.0), (3602, 0.0), (3603, 0.004834725369437324), (3604, 0.0), (3605, 0.0), (3606, 0.005529509968370639), (3607, 0.08262851166296528), (3608, 0.0), (3609, 0.0), (3610, 0.0), (3611, 0.0), (3612, 0.007365639761235367), (3613, 0.039527163735965834), (3614, 0.008202943095542078), (3615, 0.0), (3616, 0.013885134723164647), (3617, 0.005217982385127273), (3618, 0.04579412964119078), (3619, 0.005430751071802213), (3620, 0.006379699320967502), (3621, 0.0), (3622, 0.020649658415777157), (3623, 0.006496191532653662), (3624, 0.019622320702855304), (3625, 0.0), (3626, 0.006653647711839074), (3627, 0.0), (3628, 0.00688703899184876), (3629, 0.007040229940041909), (3630, 0.0), (3631, 0.010507107573316474), (3632, 0.0), (3633, 0.0), (3634, 0.0), (3635, 0.0), (3636, 0.06716705247325722), (3637, 0.0), (3638, 0.029580103318349572), (3639, 0.0), (3640, 0.0), (3641, 0.0), (3642, 0.011554893553604869), (3643, 0.0), (3644, 0.0), (3645, 0.0), (3646, 0.0), (3647, 0.013557520076920812), (3648, 0.018858475631109935), (3649, 0.0), (3650, 0.00624912316461529), (3651, 0.0), (3652, 0.0), (3653, 0.0), (3654, 0.0), (3655, 0.015235674685022422), (3656, 0.0), (3657, 0.0), (3658, 0.011512713702317963), (3659, 0.012602077977398882), (3660, 0.0), (3661, 0.0), (3662, 0.02132943061765266), (3663, 0.0), (3664, 0.011374330249364899), (3665, 0.0), (3666, 0.0), (3667, 0.017716411055689083), (3668, 0.037804386751164945), (3669, 0.0), (3670, 0.0), (3671, 0.011510596310752982), (3672, 0.005761843809433819), (3673, 0.0), (3674, 0.0), (3675, 0.0), (3676, 0.0), (3677, 0.0), (3678, 0.0), (3679, 0.008412997506252762), (3680, 0.00503621984042996), (3681, 0.0), (3682, 0.0), (3683, 0.007308794512030613), (3684, 0.044062577192114386), (3685, 0.0), (3686, 0.0), (3687, 0.0), (3688, 0.028256809790844436), (3689, 0.005871619230224027), (3690, 0.0), (3691, 0.005594326925393352), (3692, 0.0), (3693, 0.007229697997427098), (3694, 0.0), (3695, 0.006866153073218451), (3696, 0.010819630843184259), (3697, 0.0), (3698, 0.06050058195137924), (3699, 0.0), (3700, 0.0), (3701, 0.0), (3702, 0.0), (3703, 0.0), (3704, 0.0858541444350738), (3705, 0.0), (3706, 0.010961797604112644), (3707, 0.005618803910767897), (3708, 0.0), (3709, 0.0), (3710, 0.0), (3711, 0.0), (3712, 0.0), (3713, 0.0), (3714, 0.007532840627326726), (3715, 0.024571575246624372), (3716, 0.0), (3717, 0.0), (3718, 0.0), (3719, 0.0), (3720, 0.0), (3721, 0.0), (3722, 0.004640650986855851), (3723, 0.0), (3724, 0.006049392053043681), (3725, 0.005865737936521519), (3726, 0.028542383576458864), (3727, 0.0), (3728, 0.09158745946053838), (3729, 0.0), (3730, 0.0), (3731, 0.0), (3732, 0.0), (3733, 0.014244584301410002), (3734, 0.007496312619133291), (3735, 0.0), (3736, 0.0), (3737, 0.026165745149857676), (3738, 0.0), (3739, 0.0), (3740, 0.005545133519592764), (3741, 0.03199537469541385), (3742, 0.0), (3743, 0.0), (3744, 0.030444620574947595), (3745, 0.0), (3746, 0.0), (3747, 0.0), (3748, 0.0), (3749, 0.005460788417887676), (3750, 0.027244533926937473), (3751, 0.0), (3752, 0.0), (3753, 0.0), (3754, 0.0), (3755, 0.02838282747675408), (3756, 0.0060917136523254865), (3757, 0.03074833510728656), (3758, 0.04322993804455477), (3759, 0.0), (3760, 0.013422534090877934), (3761, 0.013352257928763094), (3762, 0.008056243515394561), (3763, 0.011616179564654706), (3764, 0.01038673713433489), (3765, 0.027985846640208988), (3766, 0.005299869168853445), (3767, 0.011921699493701749), (3768, 0.0), (3769, 0.0), (3770, 0.0), (3771, 0.0), (3772, 0.0), (3773, 0.0), (3774, 0.00645928402626), (3775, 0.0345930783978487), (3776, 0.0), (3777, 0.012429016498635703), (3778, 0.0), (3779, 0.0), (3780, 0.0), (3781, 0.0), (3782, 0.013841247690395436), (3783, 0.0), (3784, 0.0), (3785, 0.0), (3786, 0.0), (3787, 0.0), (3788, 0.0), (3789, 0.0), (3790, 0.0), (3791, 0.05526449829701687), (3792, 0.0155478799921609), (3793, 0.0), (3794, 0.0), (3795, 0.006045221288115757), (3796, 0.0), (3797, 0.0), (3798, 0.02527182966580185), (3799, 0.005774931182130506), (3800, 0.012328125344037167), (3801, 0.0), (3802, 0.028832621383593448), (3803, 0.0), (3804, 0.022207789111257557), (3805, 0.0), (3806, 0.0), (3807, 0.0), (3808, 0.0), (3809, 0.0), (3810, 0.0), (3811, 0.0), (3812, 0.006913072537526001), (3813, 0.03531534568595401), (3814, 0.0), (3815, 0.0437510867931282), (3816, 0.005992705896273682), (3817, 0.0), (3818, 0.0), (3819, 0.006132748492098991), (3820, 0.07325843910816505), (3821, 0.0), (3822, 0.011005771992309637), (3823, 0.0), (3824, 0.0), (3825, 0.0), (3826, 0.005959708041562916), (3827, 0.0), (3828, 0.005469798742909053), (3829, 0.0), (3830, 0.02832700690227505), (3831, 0.0), (3832, 0.006380834047705974), (3833, 0.005453343611675634), (3834, 0.0201895768552229), (3835, 0.0), (3836, 0.02308951035570785), (3837, 0.0066875139798626675), (3838, 0.0), (3839, 0.0), (3840, 0.0071823514481250805), (3841, 0.07005025812793393), (3842, 0.005826135246514066), (3843, 0.0), (3844, 0.006134105905323673), (3845, 0.009684772383404596), (3846, 0.0815309345382573), (3847, 0.0), (3848, 0.005353143316013436), (3849, 0.005975373284847773), (3850, 0.0), (3851, 0.005157461111342715), (3852, 0.015373164723241331), (3853, 0.0), (3854, 0.029640531206024525), (3855, 0.0), (3856, 0.01737901776241028), (3857, 0.02228182738945369), (3858, 0.04707878127166841), (3859, 0.0), (3860, 0.013093309874736666), (3861, 0.0), (3862, 0.0), (3863, 0.0), (3864, 0.026183778019770503), (3865, 0.0), (3866, 0.0), (3867, 0.0), (3868, 0.0), (3869, 0.04767034165247705), (3870, 0.0), (3871, 0.0), (3872, 0.0), (3873, 0.013063436993340727), (3874, 0.012990113312457509), (3875, 0.0), (3876, 0.00587578460456206), (3877, 0.0), (3878, 0.02403993423137943), (3879, 0.0), (3880, 0.0), (3881, 0.05568673341987073), (3882, 0.006265876408030196), (3883, 0.0), (3884, 0.004463196826945431), (3885, 0.0), (3886, 0.021894481404051834), (3887, 0.0), (3888, 0.0), (3889, 0.0), (3890, 0.0), (3891, 0.0), (3892, 0.0), (3893, 0.0), (3894, 0.012995216293824679), (3895, 0.010567561985962821), (3896, 0.010818975549841566), (3897, 0.0), (3898, 0.0), (3899, 0.029114250683795334), (3900, 0.0), (3901, 0.02503008029596811), (3902, 0.0), (3903, 0.02584660674178536), (3904, 0.0), (3905, 0.0), (3906, 0.0), (3907, 0.010610709768543702), (3908, 0.021083482780277014), (3909, 0.0), (3910, 0.0), (3911, 0.0), (3912, 0.007015122801130874), (3913, 0.0), (3914, 0.0), (3915, 0.0), (3916, 0.0), (3917, 0.0), (3918, 0.01929053034564256), (3919, 0.011461865108637297), (3920, 0.01639654722286203), (3921, 0.0), (3922, 0.0), (3923, 0.0070705060638861315), (3924, 0.0066022715346930275), (3925, 0.03746879816894685), (3926, 0.0), (3927, 0.0), (3928, 0.01093879324953909), (3929, 0.013378033072392406), (3930, 0.0), (3931, 0.018865864554349427), (3932, 0.0), (3933, 0.0), (3934, 0.0), (3935, 0.06988764137394589), (3936, 0.02747673446537555), (3937, 0.03114931099875265), (3938, 0.0), (3939, 0.0), (3940, 0.057310500858500396), (3941, 0.051045206745959894), (3942, 0.005483266125780868), (3943, 0.006751197754039458), (3944, 0.0), (3945, 0.020155575567492062), (3946, 0.0), (3947, 0.0), (3948, 0.0), (3949, 0.07405013927445966), (3950, 0.0), (3951, 0.0), (3952, 0.0), (3953, 0.0), (3954, 0.0), (3955, 0.007847459821656489), (3956, 0.0), (3957, 0.0), (3958, 0.0), (3959, 0.0), (3960, 0.0), (3961, 0.0), (3962, 0.005736585596870044), (3963, 0.0), (3964, 0.0), (3965, 0.005658470046046968), (3966, 0.010390728161941178), (3967, 0.0), (3968, 0.0), (3969, 0.014558166403780123), (3970, 0.0), (3971, 0.0), (3972, 0.0064662860829584655), (3973, 0.0), (3974, 0.0), (3975, 0.0), (3976, 0.006005370516243204), (3977, 0.0), (3978, 0.0), (3979, 0.0), (3980, 0.0), (3981, 0.0), (3982, 0.016885713084115107), (3983, 0.0), (3984, 0.0), (3985, 0.0), (3986, 0.01623829906550574), (3987, 0.007583222048877845), (3988, 0.006355700213003844), (3989, 0.0), (3990, 0.0), (3991, 0.0), (3992, 0.0), (3993, 0.00620879718781194), (3994, 0.0), (3995, 0.0), (3996, 0.01216438948149266), (3997, 0.0), (3998, 0.0), (3999, 0.0), (4000, 0.03291185264242713), (4001, 0.0), (4002, 0.0), (4003, 0.0), (4004, 0.006164009882267761), (4005, 0.0), (4006, 0.0), (4007, 0.0), (4008, 0.0), (4009, 0.0), (4010, 0.023877811006196733), (4011, 0.020274455990110442), (4012, 0.005393676667471895), (4013, 0.025213176017885544), (4014, 0.007120453048631274), (4015, 0.011621892482519297), (4016, 0.027337678760023167), (4017, 0.007018335087722346), (4018, 0.0), (4019, 0.0), (4020, 0.0), (4021, 0.0), (4022, 0.01133071743763324), (4023, 0.0), (4024, 0.02941389978601721), (4025, 0.0), (4026, 0.0), (4027, 0.008604564853645049), (4028, 0.0), (4029, 0.0), (4030, 0.012109878756668498), (4031, 0.0), (4032, 0.0), (4033, 0.019166292633647324), (4034, 0.0), (4035, 0.0), (4036, 0.0), (4037, 0.0050485517403706295), (4038, 0.0), (4039, 0.0), (4040, 0.0), (4041, 0.020990016227133094), (4042, 0.005540436016346113), (4043, 0.0), (4044, 0.0), (4045, 0.008284509505041875), (4046, 0.0), (4047, 0.0), (4048, 0.008794134596357197), (4049, 0.022184639153085307), (4050, 0.0), (4051, 0.0), (4052, 0.0), (4053, 0.0), (4054, 0.0), (4055, 0.014810216596345741), (4056, 0.0), (4057, 0.0), (4058, 0.0), (4059, 0.0), (4060, 0.012782412991331522), (4061, 0.0061363369033652915), (4062, 0.006248134498630651), (4063, 0.0), (4064, 0.0), (4065, 0.0), (4066, 0.0), (4067, 0.0), (4068, 0.0), (4069, 0.026757953552809095), (4070, 0.011780537124652098), (4071, 0.010979631635034756), (4072, 0.006040216899280533), (4073, 0.0), (4074, 0.0), (4075, 0.0), (4076, 0.012620769830512616), (4077, 0.005014470303921094), (4078, 0.026954524273606353), (4079, 0.0), (4080, 0.0060755990185584145), (4081, 0.0051889392080357605), (4082, 0.0), (4083, 0.0), (4084, 0.0), (4085, 0.0), (4086, 0.0), (4087, 0.010429028465877373), (4088, 0.0189966106486877), (4089, 0.0), (4090, 0.0), (4091, 0.0), (4092, 0.0), (4093, 0.006026763059107229), (4094, 0.03052344367283029), (4095, 0.0), (4096, 0.0), (4097, 0.0), (4098, 0.04190165818031445), (4099, 0.0054006881792509585), (4100, 0.0), (4101, 0.0), (4102, 0.026157975024227967), (4103, 0.0), (4104, 0.0), (4105, 0.0), (4106, 0.03339152863134233), (4107, 0.0), (4108, 0.0), (4109, 0.0), (4110, 0.0), (4111, 0.006723088087315238), (4112, 0.0), (4113, 0.026448686645478683), (4114, 0.0052155096671688975), (4115, 0.0), (4116, 0.0), (4117, 0.006036335530790547), (4118, 0.0), (4119, 0.02707911972956432), (4120, 0.0), (4121, 0.0), (4122, 0.0), (4123, 0.0), (4124, 0.032193007262331076), (4125, 0.014027530703652364), (4126, 0.0), (4127, 0.0066158535607368715), (4128, 0.013031258796615472), (4129, 0.014535834279257497), (4130, 0.0), (4131, 0.0), (4132, 0.031844221930291815), (4133, 0.0), (4134, 0.010027891605657127), (4135, 0.011964024047630004), (4136, 0.03544713047753665), (4137, 0.0), (4138, 0.0), (4139, 0.0), (4140, 0.0), (4141, 0.0), (4142, 0.0), (4143, 0.0065253969980885946), (4144, 0.0), (4145, 0.0), (4146, 0.02550677560438264), (4147, 0.015738741679686086), (4148, 0.0), (4149, 0.009888374888942283), (4150, 0.0), (4151, 0.018282906774077574), (4152, 0.013959778954789061), (4153, 0.0), (4154, 0.0), (4155, 0.0168886900554629), (4156, 0.0), (4157, 0.0), (4158, 0.010915189862089355), (4159, 0.0), (4160, 0.03218346446377031), (4161, 0.007528796053867118), (4162, 0.011608167453736556), (4163, 0.007201500914895639), (4164, 0.0), (4165, 0.0), (4166, 0.0), (4167, 0.015543098485156635), (4168, 0.0), (4169, 0.0), (4170, 0.0), (4171, 0.019843818676723), (4172, 0.03068636513601463), (4173, 0.0), (4174, 0.0), (4175, 0.025807417282511607), (4176, 0.00953670731340605), (4177, 0.0), (4178, 0.0), (4179, 0.0), (4180, 0.0), (4181, 0.0413209516884963), (4182, 0.005751575520515027), (4183, 0.0), (4184, 0.0), (4185, 0.0), (4186, 0.0), (4187, 0.0064422330720089694), (4188, 0.0), (4189, 0.02865898702768234), (4190, 0.010667093501917881), (4191, 0.0), (4192, 0.0), (4193, 0.01669916638662962), (4194, 0.0), (4195, 0.0), (4196, 0.0), (4197, 0.0), (4198, 0.0), (4199, 0.02747979470557891), (4200, 0.010645476098596705), (4201, 0.006038866323747719), (4202, 0.006319620523101494), (4203, 0.012112919573177821), (4204, 0.0), (4205, 0.0), (4206, 0.0), (4207, 0.0), (4208, 0.0), (4209, 0.006322061293547969), (4210, 0.0), (4211, 0.02433616783194742), (4212, 0.0), (4213, 0.0), (4214, 0.0), (4215, 0.0110381905132961), (4216, 0.02404436439798204), (4217, 0.0), (4218, 0.0), (4219, 0.024918347686474412), (4220, 0.0049376356624804855), (4221, 0.0), (4222, 0.007185751846979931), (4223, 0.005976787395203147), (4224, 0.011791457337724786), (4225, 0.0), (4226, 0.0), (4227, 0.0), (4228, 0.020157458880173902), (4229, 0.0), (4230, 0.00599372021903987), (4231, 0.0), (4232, 0.021097041604993438), (4233, 0.021695766240644863), (4234, 0.0), (4235, 0.0), (4236, 0.0), (4237, 0.007102013971410813), (4238, 0.04692220733967821), (4239, 0.0), (4240, 0.04584092417375429), (4241, 0.0), (4242, 0.0), (4243, 0.0), (4244, 0.0), (4245, 0.0), (4246, 0.0117279368981539), (4247, 0.0), (4248, 0.0), (4249, 0.0), (4250, 0.0), (4251, 0.012841729968019008), (4252, 0.0), (4253, 0.0), (4254, 0.0), (4255, 0.0), (4256, 0.0075588770700201965), (4257, 0.0), (4258, 0.006707757124908904), (4259, 0.01575238203897141), (4260, 0.0), (4261, 0.008444904410944224), (4262, 0.0), (4263, 0.016316851825566178), (4264, 0.011966449399710432), (4265, 0.0), (4266, 0.013913218401730636), (4267, 0.0), (4268, 0.0), (4269, 0.03979637960214638), (4270, 0.0), (4271, 0.0), (4272, 0.0), (4273, 0.0), (4274, 0.0), (4275, 0.005390644393344606), (4276, 0.006802160956445382), (4277, 0.008006966346346378), (4278, 0.0), (4279, 0.0), (4280, 0.0), (4281, 0.007429930563572447), (4282, 0.03989796625982196), (4283, 0.006160574407676927), (4284, 0.0), (4285, 0.0), (4286, 0.0), (4287, 0.006399807116394413), (4288, 0.05660882844319337), (4289, 0.0), (4290, 0.012968639086878578), (4291, 0.011360072270012355), (4292, 0.0), (4293, 0.0), (4294, 0.03615809173709182), (4295, 0.014104975452219387), (4296, 0.0), (4297, 0.02069470643925621), (4298, 0.007609884646901706), (4299, 0.014040694079497708), (4300, 0.0), (4301, 0.013695938047067875), (4302, 0.0), (4303, 0.0), (4304, 0.0), (4305, 0.0), (4306, 0.0), (4307, 0.01861181748738573), (4308, 0.0), (4309, 0.0), (4310, 0.0), (4311, 0.023584821571826817), (4312, 0.0036566169578763673), (4313, 0.0), (4314, 0.0), (4315, 0.01161288073226011), (4316, 0.005013339895982271), (4317, 0.0), (4318, 0.0), (4319, 0.0), (4320, 0.007306357034623325), (4321, 0.006751119253640818), (4322, 0.0), (4323, 0.0), (4324, 0.0), (4325, 0.009105252719288482), (4326, 0.04311993651346863), (4327, 0.005122527353707599), (4328, 0.0), (4329, 0.01906807153678903), (4330, 0.0), (4331, 0.04249612839631248), (4332, 0.035467414686181274), (4333, 0.0), (4334, 0.0), (4335, 0.0), (4336, 0.0), (4337, 0.0067665852551885685), (4338, 0.0), (4339, 0.005301370698626789), (4340, 0.02320407037688154), (4341, 0.0), (4342, 0.0), (4343, 0.0), (4344, 0.0047588634006217505), (4345, 0.0), (4346, 0.0), (4347, 0.0), (4348, 0.0), (4349, 0.0058156290836575125), (4350, 0.0), (4351, 0.06999591923127249), (4352, 0.0), (4353, 0.0050581123410562475), (4354, 0.0), (4355, 0.007646287683919453), (4356, 0.0), (4357, 0.0), (4358, 0.0), (4359, 0.0), (4360, 0.0), (4361, 0.0), (4362, 0.0), (4363, 0.0), (4364, 0.009487831446403657), (4365, 0.0), (4366, 0.008104360652699316), (4367, 0.0), (4368, 0.01841008645913427), (4369, 0.008202546304221299), (4370, 0.0), (4371, 0.03235426706779689), (4372, 0.0), (4373, 0.0), (4374, 0.0), (4375, 0.03200660086331333), (4376, 0.0478067609693394), (4377, 0.0), (4378, 0.015479020510473413), (4379, 0.0), (4380, 0.011290723705635122), (4381, 0.006558230550696961), (4382, 0.0), (4383, 0.0061446774439902554), (4384, 0.0), (4385, 0.0), (4386, 0.0), (4387, 0.0), (4388, 0.00545483477198592), (4389, 0.0), (4390, 0.0), (4391, 0.0), (4392, 0.02804986889643442), (4393, 0.006921818472006193), (4394, 0.009132611241521767), (4395, 0.02291227045313759), (4396, 0.0), (4397, 0.006612694626674482), (4398, 0.0), (4399, 0.014190980194940124), (4400, 0.0), (4401, 0.03234125828904343), (4402, 0.00497178120166691), (4403, 0.0), (4404, 0.0), (4405, 0.0), (4406, 0.0), (4407, 0.011072333078378672), (4408, 0.0071537810194983445), (4409, 0.0), (4410, 0.0), (4411, 0.0), (4412, 0.0), (4413, 0.016154104131279205), (4414, 0.0), (4415, 0.0), (4416, 0.0), (4417, 0.0), (4418, 0.0), (4419, 0.0), (4420, 0.0), (4421, 0.0), (4422, 0.0), (4423, 0.0), (4424, 0.0), (4425, 0.006527820046048387), (4426, 0.0), (4427, 0.10339492817261245), (4428, 0.0), (4429, 0.05244016928788348), (4430, 0.0), (4431, 0.0), (4432, 0.006914834617069522), (4433, 0.0), (4434, 0.0), (4435, 0.0), (4436, 0.0), (4437, 0.0), (4438, 0.0), (4439, 0.0), (4440, 0.021014657751862082), (4441, 0.1127857020453836), (4442, 0.0), (4443, 0.0), (4444, 0.0), (4445, 0.0), (4446, 0.0), (4447, 0.0), (4448, 0.006778498024577328), (4449, 0.0238649941289929), (4450, 0.00679110280194404), (4451, 0.0), (4452, 0.0), (4453, 0.034363064036817416), (4454, 0.0190478524769709), (4455, 0.0), (4456, 0.0), (4457, 0.028239493947412386), (4458, 0.0), (4459, 0.0), (4460, 0.006300535811254108), (4461, 0.008341464367558905), (4462, 0.0), (4463, 0.05358191589064969), (4464, 0.0), (4465, 0.005863710013917689), (4466, 0.0), (4467, 0.0), (4468, 0.0), (4469, 0.0), (4470, 0.0), (4471, 0.0), (4472, 0.0), (4473, 0.0), (4474, 0.0), (4475, 0.0), (4476, 0.0), (4477, 0.019762741790078957), (4478, 0.0), (4479, 0.0074660140751074714), (4480, 0.027299791895313397), (4481, 0.0), (4482, 0.008597873018520419), (4483, 0.0), (4484, 0.0), (4485, 0.0), (4486, 0.0), (4487, 0.01782814869309185), (4488, 0.0), (4489, 0.047971061333801565), (4490, 0.0), (4491, 0.0), (4492, 0.0), (4493, 0.0), (4494, 0.0), (4495, 0.0), (4496, 0.007821683459654248), (4497, 0.006636625474202218), (4498, 0.013115192310114347), (4499, 0.007983188626016343), (4500, 0.0), (4501, 0.022795831942496684), (4502, 0.0), (4503, 0.0), (4504, 0.0), (4505, 0.0), (4506, 0.0), (4507, 0.0045561537833537094), (4508, 0.0), (4509, 0.012226061756245743), (4510, 0.0), (4511, 0.0), (4512, 0.0), (4513, 0.0), (4514, 0.0), (4515, 0.02225194005216204), (4516, 0.0), (4517, 0.0), (4518, 0.020028953177660153), (4519, 0.0), (4520, 0.0), (4521, 0.0), (4522, 0.0), (4523, 0.0), (4524, 0.0), (4525, 0.0), (4526, 0.0), (4527, 0.007280628701665752), (4528, 0.0), (4529, 0.0), (4530, 0.0), (4531, 0.0), (4532, 0.0), (4533, 0.0), (4534, 0.0), (4535, 0.010119360202017747), (4536, 0.0), (4537, 0.0), (4538, 0.023229737201705746), (4539, 0.018721468474249398), (4540, 0.0), (4541, 0.0), (4542, 0.0), (4543, 0.0), (4544, 0.0), (4545, 0.0), (4546, 0.006295206116276795), (4547, 0.0), (4548, 0.0), (4549, 0.005820177153230973), (4550, 0.0), (4551, 0.0), (4552, 0.0), (4553, 0.0), (4554, 0.0065647980157139555), (4555, 0.0), (4556, 0.0), (4557, 0.006335073877225738), (4558, 0.0), (4559, 0.0), (4560, 0.0), (4561, 0.0), (4562, 0.0), (4563, 0.010616692999185148), (4564, 0.0), (4565, 0.01814585973040179), (4566, 0.0), (4567, 0.0), (4568, 0.0), (4569, 0.0), (4570, 0.0), (4571, 0.0), (4572, 0.0), (4573, 0.026143259340214494), (4574, 0.0), (4575, 0.0), (4576, 0.026198213555128504), (4577, 0.0), (4578, 0.0), (4579, 0.013248876474258629), (4580, 0.0), (4581, 0.0), (4582, 0.0), (4583, 0.01364745264066139), (4584, 0.0), (4585, 0.00481809164050855), (4586, 0.0), (4587, 0.0), (4588, 0.0), (4589, 0.0), (4590, 0.0), (4591, 0.0), (4592, 0.02655743839153594), (4593, 0.011332262948620088), (4594, 0.022073635683786327), (4595, 0.059593871707458515), (4596, 0.0), (4597, 0.0), (4598, 0.0), (4599, 0.04468039665931238), (4600, 0.0), (4601, 0.0), (4602, 0.0), (4603, 0.0), (4604, 0.03364000093821674), (4605, 0.0), (4606, 0.0), (4607, 0.0), (4608, 0.016315827437983987), (4609, 0.0), (4610, 0.057883447291779376), (4611, 0.0), (4612, 0.0), (4613, 0.0), (4614, 0.0), (4615, 0.0), (4616, 0.0), (4617, 0.0), (4618, 0.0), (4619, 0.0), (4620, 0.006419883025586883), (4621, 0.006056403169852285), (4622, 0.0), (4623, 0.00582336835078384), (4624, 0.0), (4625, 0.0), (4626, 0.005632742937961959), (4627, 0.013510210229774573), (4628, 0.0), (4629, 0.0), (4630, 0.045863069698448236), (4631, 0.00740046921676906), (4632, 0.015292860811415825), (4633, 0.0), (4634, 0.0), (4635, 0.0), (4636, 0.0), (4637, 0.0), (4638, 0.026364619434545156), (4639, 0.0), (4640, 0.0), (4641, 0.0), (4642, 0.07530487739304983), (4643, 0.0), (4644, 0.0), (4645, 0.0), (4646, 0.015747047596413696), (4647, 0.012470607190215), (4648, 0.006182779137025247), (4649, 0.026345218615064152), (4650, 0.0), (4651, 0.012523283645725742), (4652, 0.0), (4653, 0.0), (4654, 0.01894577017304805), (4655, 0.0), (4656, 0.007911136609321303), (4657, 0.0), (4658, 0.010112949362283186), (4659, 0.0), (4660, 0.0), (4661, 0.0), (4662, 0.0), (4663, 0.0), (4664, 0.01954320851760345), (4665, 0.011445271822534655), (4666, 0.006541411705876678), (4667, 0.0), (4668, 0.0), (4669, 0.0415335290289451), (4670, 0.013525669478688496), (4671, 0.0), (4672, 0.049849441183346124), (4673, 0.0), (4674, 0.0), (4675, 0.037519399103793115), (4676, 0.0), (4677, 0.0), (4678, 0.00778561921324745), (4679, 0.0), (4680, 0.0), (4681, 0.0), (4682, 0.0), (4683, 0.0), (4684, 0.0), (4685, 0.0), (4686, 0.0), (4687, 0.0), (4688, 0.036033319474808936), (4689, 0.0), (4690, 0.0), (4691, 0.013973998102006321), (4692, 0.0), (4693, 0.0), (4694, 0.014296530419768427), (4695, 0.0), (4696, 0.07129914397409978), (4697, 0.0), (4698, 0.0), (4699, 0.0), (4700, 0.0), (4701, 0.004010020601526235), (4702, 0.0), (4703, 0.0), (4704, 0.006421099469457418), (4705, 0.0), (4706, 0.0), (4707, 0.0), (4708, 0.00794978293646316), (4709, 0.0), (4710, 0.0), (4711, 0.0), (4712, 0.0), (4713, 0.0), (4714, 0.0), (4715, 0.0), (4716, 0.0), (4717, 0.020797967016960264), (4718, 0.0), (4719, 0.0), (4720, 0.007244588722449309), (4721, 0.0), (4722, 0.010836100633552292), (4723, 0.0), (4724, 0.01195346281374232), (4725, 0.0), (4726, 0.012783948503834368), (4727, 0.004706976631151277), (4728, 0.027389959782990945), (4729, 0.0), (4730, 0.008545307611633196), (4731, 0.0), (4732, 0.0), (4733, 0.007059055771292283), (4734, 0.006601157057260803), (4735, 0.006284535836710302), (4736, 0.0), (4737, 0.0), (4738, 0.0), (4739, 0.0), (4740, 0.0), (4741, 0.0), (4742, 0.0), (4743, 0.0), (4744, 0.0), (4745, 0.0), (4746, 0.0), (4747, 0.0), (4748, 0.0), (4749, 0.0), (4750, 0.0), (4751, 0.0), (4752, 0.0), (4753, 0.0), (4754, 0.0), (4755, 0.0), (4756, 0.012335047021714101), (4757, 0.0), (4758, 0.0), (4759, 0.0), (4760, 0.021627420576556686), (4761, 0.0), (4762, 0.0), (4763, 0.0), (4764, 0.0), (4765, 0.0), (4766, 0.046618617370621895), (4767, 0.0), (4768, 0.0), (4769, 0.008298858090744005), (4770, 0.0), (4771, 0.013249343514626337), (4772, 0.005909862136057047), (4773, 0.0), (4774, 0.02748800439096527), (4775, 0.0), (4776, 0.0), (4777, 0.0), (4778, 0.005607688836915917), (4779, 0.016485380888589158), (4780, 0.0), (4781, 0.0), (4782, 0.009012065693291764), (4783, 0.0), (4784, 0.0), (4785, 0.0), (4786, 0.0), (4787, 0.012139686408009972), (4788, 0.0), (4789, 0.0), (4790, 0.0), (4791, 0.0), (4792, 0.0), (4793, 0.0), (4794, 0.0), (4795, 0.0), (4796, 0.0), (4797, 0.0), (4798, 0.004146795671222327), (4799, 0.006391643027000708), (4800, 0.0), (4801, 0.0), (4802, 0.0)]\n"
          ]
        }
      ]
    },
    {
      "cell_type": "code",
      "source": [
        "sorted_similarities=sorted(similarity_score,key=lambda x:x[1],reverse=True) #from higher to lower\n"
      ],
      "metadata": {
        "id": "BdtUz2TYaw2h"
      },
      "execution_count": 24,
      "outputs": []
    },
    {
      "cell_type": "code",
      "source": [
        "print(\"Movies suggested for you:\\n\")\n",
        "i=1\n",
        "for movie in sorted_similarities:\n",
        "  index=movie[0]\n",
        "  title_from_index=movies[movies.index==index]['title'].values[0]\n",
        "  if(i<10):\n",
        "    print(i,'.',title_from_index)\n",
        "    i+=1\n",
        "\n"
      ],
      "metadata": {
        "colab": {
          "base_uri": "https://localhost:8080/"
        },
        "id": "n5pv9W6kcKwq",
        "outputId": "315e44d7-9639-4f75-a3f3-35b25d0da7d9"
      },
      "execution_count": 25,
      "outputs": [
        {
          "output_type": "stream",
          "name": "stdout",
          "text": [
            "Movies suggested for you:\n",
            "\n",
            "1 . Spider-Man\n",
            "2 . Spider-Man 3\n",
            "3 . Spider-Man 2\n",
            "4 . The Notebook\n",
            "5 . Seabiscuit\n",
            "6 . Clerks II\n",
            "7 . The Ice Storm\n",
            "8 . Oz: The Great and Powerful\n",
            "9 . Horrible Bosses\n"
          ]
        }
      ]
    }
  ]
}